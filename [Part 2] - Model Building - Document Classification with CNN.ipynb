{
 "cells": [
  {
   "cell_type": "markdown",
   "metadata": {},
   "source": [
    "# Document Classification with CNN [Part 2] - Model Building"
   ]
  },
  {
   "cell_type": "markdown",
   "metadata": {},
   "source": [
    "* Solved By: Pradip Dharam\n",
    "* Objective: Preprocess docs, train multiple ConvNets to classify docs with achieve upto 70% accuracy etc.\n",
    "* Part 1 [Another Notebook]: Preprocessing of all 18828 files. Features preprocessed_email, preprocessed_subjects, preprocessed_texts to be extracted.\n",
    "* Part 2 [Covered]: Multiple ConvNets models to be trained.\n",
    "* Part 3 [Not Covered]: "
   ]
  },
  {
   "cell_type": "code",
   "execution_count": 1,
   "metadata": {},
   "outputs": [
    {
     "name": "stdout",
     "output_type": "stream",
     "text": [
      "Num GPUs Available:  1\n",
      "2.7.0\n"
     ]
    }
   ],
   "source": [
    "import tensorflow as tf\n",
    "print(\"Num GPUs Available: \", len(tf.config.list_physical_devices('GPU')))\n",
    "print(tf. __version__) "
   ]
  },
  {
   "cell_type": "code",
   "execution_count": 2,
   "metadata": {},
   "outputs": [],
   "source": [
    "import pandas as pd\n",
    "import numpy as np\n",
    "from tqdm import tqdm\n",
    "from sklearn.model_selection import StratifiedShuffleSplit\n",
    "from sklearn.feature_extraction.text import TfidfVectorizer\n",
    "from collections import Counter\n",
    "import matplotlib.pyplot as plt\n",
    "\n",
    "import matplotlib\n",
    "import tkinter\n",
    "#matplotlib.use('TkAgg')\n",
    "#matplotlib.use('Agg')\n",
    "#import probscale\n",
    "import seaborn as sns"
   ]
  },
  {
   "cell_type": "code",
   "execution_count": 3,
   "metadata": {},
   "outputs": [],
   "source": [
    "from tensorflow import keras \n",
    "from tensorflow.keras import Sequential, Model"
   ]
  },
  {
   "cell_type": "code",
   "execution_count": 4,
   "metadata": {},
   "outputs": [],
   "source": [
    "import tensorflow.compat.v2 as tf\n",
    "#from keras.preprocessing.text import Tokenizer\n",
    "#from keras.preprocessing.sequence import pad_sequences\n",
    "\n",
    "from tensorflow.keras.layers import Dense, Input, Flatten, Embedding, LSTM \n",
    "from tensorflow.keras.layers import concatenate, Dropout, Conv1D, Conv2D, MaxPooling2D\n",
    "from tensorflow.keras.layers import MaxPool1D\n",
    "from tensorflow.python.keras.callbacks import TensorBoard, EarlyStopping, ModelCheckpoint\n",
    "from tensorflow.keras.models import load_model\n",
    "\n",
    "import os\n",
    "\n",
    "from tensorflow.keras.models import Model\n",
    "from tensorflow.keras.layers import Conv2D, MaxPool2D,  \\\n",
    "    Dropout, Dense, Input, concatenate,      \\\n",
    "    GlobalAveragePooling2D, AveragePooling2D,\\\n",
    "    Flatten\n",
    "\n",
    "import tensorflow_addons as tfa\n",
    "\n",
    "import tensorflow as tf\n",
    "import datetime\n",
    "import time as time"
   ]
  },
  {
   "cell_type": "code",
   "execution_count": 5,
   "metadata": {},
   "outputs": [],
   "source": [
    "#!pip install tensorflow-addons"
   ]
  },
  {
   "cell_type": "code",
   "execution_count": 6,
   "metadata": {},
   "outputs": [],
   "source": [
    "#\"UserWarning: Matplotlib is currently using agg, which is a non-GUI backend, so cannot show the figure.\"\n",
    "#!pip install pyqt5"
   ]
  },
  {
   "cell_type": "markdown",
   "metadata": {},
   "source": [
    "## Train Test Splits - Stratified"
   ]
  },
  {
   "cell_type": "code",
   "execution_count": 7,
   "metadata": {},
   "outputs": [],
   "source": [
    "df = pd.read_excel(\"Preprocessed_Documents_60778.xlsx\")"
   ]
  },
  {
   "cell_type": "code",
   "execution_count": 8,
   "metadata": {},
   "outputs": [],
   "source": [
    "df['combined'] = df.preprocessed_text + ' ' + df.preprocessed_subject + ' ' + df.preprocessed_emails"
   ]
  },
  {
   "cell_type": "code",
   "execution_count": 9,
   "metadata": {},
   "outputs": [],
   "source": [
    "df.drop(['Unnamed: 0', 'document_name', 'text', 'preprocessed_text',\n",
    "       'preprocessed_subject', 'preprocessed_emails'], axis=1, inplace=True)"
   ]
  },
  {
   "cell_type": "code",
   "execution_count": 10,
   "metadata": {},
   "outputs": [
    {
     "data": {
      "text/plain": [
       "Index(['class', 'combined'], dtype='object')"
      ]
     },
     "execution_count": 10,
     "metadata": {},
     "output_type": "execute_result"
    }
   ],
   "source": [
    "df.columns"
   ]
  },
  {
   "cell_type": "code",
   "execution_count": 11,
   "metadata": {},
   "outputs": [
    {
     "data": {
      "text/plain": [
       "0"
      ]
     },
     "execution_count": 11,
     "metadata": {},
     "output_type": "execute_result"
    }
   ],
   "source": [
    "df['class'].isna().sum()"
   ]
  },
  {
   "cell_type": "code",
   "execution_count": 12,
   "metadata": {},
   "outputs": [
    {
     "data": {
      "text/plain": [
       "class         0\n",
       "combined    129\n",
       "dtype: int64"
      ]
     },
     "execution_count": 12,
     "metadata": {},
     "output_type": "execute_result"
    }
   ],
   "source": [
    "df.isna().sum()"
   ]
  },
  {
   "cell_type": "code",
   "execution_count": 13,
   "metadata": {},
   "outputs": [
    {
     "data": {
      "text/plain": [
       "(18828, 2)"
      ]
     },
     "execution_count": 13,
     "metadata": {},
     "output_type": "execute_result"
    }
   ],
   "source": [
    "df.shape"
   ]
  },
  {
   "cell_type": "code",
   "execution_count": 14,
   "metadata": {},
   "outputs": [
    {
     "data": {
      "text/html": [
       "<div>\n",
       "<style scoped>\n",
       "    .dataframe tbody tr th:only-of-type {\n",
       "        vertical-align: middle;\n",
       "    }\n",
       "\n",
       "    .dataframe tbody tr th {\n",
       "        vertical-align: top;\n",
       "    }\n",
       "\n",
       "    .dataframe thead th {\n",
       "        text-align: right;\n",
       "    }\n",
       "</style>\n",
       "<table border=\"1\" class=\"dataframe\">\n",
       "  <thead>\n",
       "    <tr style=\"text-align: right;\">\n",
       "      <th></th>\n",
       "      <th>combined</th>\n",
       "      <th>class</th>\n",
       "    </tr>\n",
       "  </thead>\n",
       "  <tbody>\n",
       "    <tr>\n",
       "      <th>0</th>\n",
       "      <td>atheism resources resources december atheist r...</td>\n",
       "      <td>alt.atheism</td>\n",
       "    </tr>\n",
       "    <tr>\n",
       "      <th>1</th>\n",
       "      <td>atheism introduction introduction april begin ...</td>\n",
       "      <td>alt.atheism</td>\n",
       "    </tr>\n",
       "    <tr>\n",
       "      <th>2</th>\n",
       "      <td>article well has quite different not necessari...</td>\n",
       "      <td>alt.atheism</td>\n",
       "    </tr>\n",
       "    <tr>\n",
       "      <th>3</th>\n",
       "      <td>recently ras have been ordered and none have r...</td>\n",
       "      <td>alt.atheism</td>\n",
       "    </tr>\n",
       "    <tr>\n",
       "      <th>4</th>\n",
       "      <td>article however hate economic terrorism and po...</td>\n",
       "      <td>alt.atheism</td>\n",
       "    </tr>\n",
       "    <tr>\n",
       "      <th>...</th>\n",
       "      <td>...</td>\n",
       "      <td>...</td>\n",
       "    </tr>\n",
       "    <tr>\n",
       "      <th>18694</th>\n",
       "      <td>was not sure this was the right newsgroup post...</td>\n",
       "      <td>talk.religion.misc</td>\n",
       "    </tr>\n",
       "    <tr>\n",
       "      <th>18695</th>\n",
       "      <td>article article probably not but then not pack...</td>\n",
       "      <td>talk.religion.misc</td>\n",
       "    </tr>\n",
       "    <tr>\n",
       "      <th>18696</th>\n",
       "      <td>article you would like understand better the s...</td>\n",
       "      <td>talk.religion.misc</td>\n",
       "    </tr>\n",
       "    <tr>\n",
       "      <th>18697</th>\n",
       "      <td>article the danger anti cult groups that while...</td>\n",
       "      <td>talk.religion.misc</td>\n",
       "    </tr>\n",
       "    <tr>\n",
       "      <th>18698</th>\n",
       "      <td>article mand now mdeep thoughts mby mif you pa...</td>\n",
       "      <td>talk.religion.misc</td>\n",
       "    </tr>\n",
       "  </tbody>\n",
       "</table>\n",
       "<p>18699 rows × 2 columns</p>\n",
       "</div>"
      ],
      "text/plain": [
       "                                                combined               class\n",
       "0      atheism resources resources december atheist r...         alt.atheism\n",
       "1      atheism introduction introduction april begin ...         alt.atheism\n",
       "2      article well has quite different not necessari...         alt.atheism\n",
       "3      recently ras have been ordered and none have r...         alt.atheism\n",
       "4      article however hate economic terrorism and po...         alt.atheism\n",
       "...                                                  ...                 ...\n",
       "18694  was not sure this was the right newsgroup post...  talk.religion.misc\n",
       "18695  article article probably not but then not pack...  talk.religion.misc\n",
       "18696  article you would like understand better the s...  talk.religion.misc\n",
       "18697  article the danger anti cult groups that while...  talk.religion.misc\n",
       "18698  article mand now mdeep thoughts mby mif you pa...  talk.religion.misc\n",
       "\n",
       "[18699 rows x 2 columns]"
      ]
     },
     "execution_count": 14,
     "metadata": {},
     "output_type": "execute_result"
    }
   ],
   "source": [
    "df = df[pd.notnull(df['combined'])].reset_index().filter(['combined', 'class'])\n",
    "df"
   ]
  },
  {
   "cell_type": "code",
   "execution_count": 15,
   "metadata": {},
   "outputs": [
    {
     "data": {
      "text/plain": [
       "(18699, 2)"
      ]
     },
     "execution_count": 15,
     "metadata": {},
     "output_type": "execute_result"
    }
   ],
   "source": [
    "df.shape"
   ]
  },
  {
   "cell_type": "code",
   "execution_count": 16,
   "metadata": {},
   "outputs": [
    {
     "data": {
      "text/plain": [
       "combined    0\n",
       "class       0\n",
       "dtype: int64"
      ]
     },
     "execution_count": 16,
     "metadata": {},
     "output_type": "execute_result"
    }
   ],
   "source": [
    "df.isna().sum()"
   ]
  },
  {
   "cell_type": "code",
   "execution_count": 17,
   "metadata": {},
   "outputs": [
    {
     "name": "stdout",
     "output_type": "stream",
     "text": [
      "(18699,)\n",
      "(18699,) alt.atheism\n"
     ]
    }
   ],
   "source": [
    "X = df['combined']\n",
    "y = df['class']\n",
    "print(X.shape)\n",
    "print(y.shape, y[0])"
   ]
  },
  {
   "cell_type": "code",
   "execution_count": 18,
   "metadata": {},
   "outputs": [
    {
     "data": {
      "text/plain": [
       "0"
      ]
     },
     "execution_count": 18,
     "metadata": {},
     "output_type": "execute_result"
    }
   ],
   "source": [
    "X.isna().sum()"
   ]
  },
  {
   "cell_type": "code",
   "execution_count": 19,
   "metadata": {},
   "outputs": [
    {
     "data": {
      "text/plain": [
       "pandas.core.series.Series"
      ]
     },
     "execution_count": 19,
     "metadata": {},
     "output_type": "execute_result"
    }
   ],
   "source": [
    "type(X)"
   ]
  },
  {
   "cell_type": "code",
   "execution_count": 20,
   "metadata": {},
   "outputs": [
    {
     "name": "stdout",
     "output_type": "stream",
     "text": [
      "StratifiedShuffleSplit(n_splits=2, random_state=0, test_size=0.25,\n",
      "            train_size=None)\n",
      "train_index: [15109 10406  9947 ... 10668  3767 16491] test_index: [  138  2914 17633 ... 14323 12225  8836]\n",
      "train_index: [ 4222  6505  2178 ... 12066 13209  7769] test_index: [18612   968   514 ...  1585 18418  3229]\n"
     ]
    }
   ],
   "source": [
    "#https://scikit-learn.org/stable/modules/generated/sklearn.model_selection.StratifiedShuffleSplit.html\n",
    "sss = StratifiedShuffleSplit(n_splits=2, test_size=0.25, random_state=0)\n",
    "sss.get_n_splits(X, y)\n",
    "\n",
    "print(sss)\n",
    "\n",
    "for train_index, test_index in sss.split(X, y):\n",
    "    print(\"train_index:\", train_index, \"test_index:\", test_index)\n",
    "    X_train, X_test = X[train_index], X[test_index]\n",
    "    Y_train, Y_test = y[train_index], y[test_index]"
   ]
  },
  {
   "cell_type": "code",
   "execution_count": 21,
   "metadata": {},
   "outputs": [
    {
     "name": "stdout",
     "output_type": "stream",
     "text": [
      "(14024,) (4675,)\n",
      "(14024,) (4675,)\n"
     ]
    }
   ],
   "source": [
    "print(X_train.shape, X_test.shape)\n",
    "print(Y_train.shape, Y_test.shape)"
   ]
  },
  {
   "cell_type": "markdown",
   "metadata": {},
   "source": [
    "### Plotting class distributions"
   ]
  },
  {
   "cell_type": "code",
   "execution_count": 22,
   "metadata": {},
   "outputs": [],
   "source": [
    "def plot_class_counts_histogrem(y_train):\n",
    "    dict_class_counts = dict(Counter(y_train))\n",
    "    class_document_counts = pd.Series(dict_class_counts)\n",
    "    #https://stackoverflow.com/questions/29525120/pandas-creating-a-histogram-from-string-counts\n",
    "    plt.bar(range(len(class_document_counts)), \\\n",
    "            class_document_counts.values, align='center')\n",
    "    plt.xticks(range(len(class_document_counts)), \\\n",
    "               class_document_counts.index.values, size='large', rotation='vertical')\n",
    "    plt.show()"
   ]
  },
  {
   "cell_type": "markdown",
   "metadata": {},
   "source": [
    "#### Train Set"
   ]
  },
  {
   "cell_type": "code",
   "execution_count": 23,
   "metadata": {},
   "outputs": [
    {
     "data": {
      "image/png": "[encoded data removed]",
      "text/plain": [
       "<Figure size 432x288 with 1 Axes>"
      ]
     },
     "metadata": {
      "needs_background": "light"
     },
     "output_type": "display_data"
    }
   ],
   "source": [
    "plot_class_counts_histogrem(Y_train)"
   ]
  },
  {
   "cell_type": "markdown",
   "metadata": {},
   "source": [
    "#### Test Set"
   ]
  },
  {
   "cell_type": "code",
   "execution_count": 24,
   "metadata": {},
   "outputs": [
    {
     "data": {
      "image/png": "[encoded data removed]",
      "text/plain": [
       "<Figure size 432x288 with 1 Axes>"
      ]
     },
     "metadata": {
      "needs_background": "light"
     },
     "output_type": "display_data"
    }
   ],
   "source": [
    "plot_class_counts_histogrem(Y_test)"
   ]
  },
  {
   "cell_type": "markdown",
   "metadata": {},
   "source": [
    "Distribution of classes across train and test sets looks similar"
   ]
  },
  {
   "cell_type": "markdown",
   "metadata": {},
   "source": [
    "## Analyzing prepeocessed text\n",
    "We should check X_train only to avoid the data leakage. X_train here in concatenation of features preprocessed_text, df.preprocessed_subject and preprocessed_emails."
   ]
  },
  {
   "cell_type": "markdown",
   "metadata": {},
   "source": [
    "### Texts sequence lengths analysis"
   ]
  },
  {
   "cell_type": "code",
   "execution_count": 25,
   "metadata": {},
   "outputs": [
    {
     "data": {
      "text/plain": [
       "'atheism resources resources december atheist resources addresses atheist organizations usa freedom f'"
      ]
     },
     "execution_count": 25,
     "metadata": {},
     "output_type": "execute_result"
    }
   ],
   "source": [
    "X_train[0][0:100]"
   ]
  },
  {
   "cell_type": "code",
   "execution_count": 26,
   "metadata": {},
   "outputs": [
    {
     "data": {
      "text/plain": [
       "8139"
      ]
     },
     "execution_count": 26,
     "metadata": {},
     "output_type": "execute_result"
    }
   ],
   "source": [
    "len(X_train[0]) #Number of character in X_train[0]"
   ]
  },
  {
   "cell_type": "code",
   "execution_count": 27,
   "metadata": {},
   "outputs": [],
   "source": [
    "text_lengths = pd.Series([len(sequence.split()) for sequence in X_train])"
   ]
  },
  {
   "cell_type": "code",
   "execution_count": 28,
   "metadata": {},
   "outputs": [],
   "source": [
    "#text_lengths"
   ]
  },
  {
   "cell_type": "code",
   "execution_count": 29,
   "metadata": {},
   "outputs": [
    {
     "data": {
      "image/png": "[encoded data removed]",
      "text/plain": [
       "<Figure size 1080x360 with 1 Axes>"
      ]
     },
     "metadata": {
      "needs_background": "light"
     },
     "output_type": "display_data"
    }
   ],
   "source": [
    "def plot_percentiles(numbers):\n",
    "    #https://stackoverflow.com/questions/25577352/plotting-cdf-of-a-pandas-series-in-python\n",
    "    fig = plt.figure(figsize = (15,5))\n",
    "    ax = fig.gca()\n",
    "    numbers.hist(ax = ax, cumulative=True, density=1, bins=100)\n",
    "\n",
    "plot_percentiles(text_lengths)"
   ]
  },
  {
   "cell_type": "code",
   "execution_count": 30,
   "metadata": {},
   "outputs": [
    {
     "data": {
      "text/plain": [
       "274.0"
      ]
     },
     "execution_count": 30,
     "metadata": {},
     "output_type": "execute_result"
    }
   ],
   "source": [
    "text_lengths.quantile(q=0.85)"
   ]
  },
  {
   "cell_type": "code",
   "execution_count": 31,
   "metadata": {},
   "outputs": [
    {
     "data": {
      "text/plain": [
       "348.0"
      ]
     },
     "execution_count": 31,
     "metadata": {},
     "output_type": "execute_result"
    }
   ],
   "source": [
    "text_lengths.quantile(q=.9)"
   ]
  },
  {
   "cell_type": "code",
   "execution_count": 32,
   "metadata": {},
   "outputs": [
    {
     "data": {
      "text/plain": [
       "530.8499999999985"
      ]
     },
     "execution_count": 32,
     "metadata": {},
     "output_type": "execute_result"
    }
   ],
   "source": [
    "text_lengths.quantile(q=.95)"
   ]
  },
  {
   "cell_type": "code",
   "execution_count": 33,
   "metadata": {},
   "outputs": [
    {
     "data": {
      "text/plain": [
       "1400.0800000000017"
      ]
     },
     "execution_count": 33,
     "metadata": {},
     "output_type": "execute_result"
    }
   ],
   "source": [
    "text_lengths.quantile(q=.99)"
   ]
  },
  {
   "cell_type": "markdown",
   "metadata": {},
   "source": [
    "85% of the records or sequences are below the length 348"
   ]
  },
  {
   "cell_type": "code",
   "execution_count": 34,
   "metadata": {},
   "outputs": [],
   "source": [
    "max_sequence_length = 274"
   ]
  },
  {
   "cell_type": "markdown",
   "metadata": {},
   "source": [
    "### Checking the counts of each unique word in the combined prepeocessed text"
   ]
  },
  {
   "cell_type": "code",
   "execution_count": 35,
   "metadata": {},
   "outputs": [],
   "source": [
    "scalar = TfidfVectorizer(ngram_range=(1, 1), use_idf=True) #in scikit-learn\n",
    "tfidf  = scalar.fit_transform(X_train)"
   ]
  },
  {
   "cell_type": "code",
   "execution_count": 36,
   "metadata": {},
   "outputs": [
    {
     "name": "stderr",
     "output_type": "stream",
     "text": [
      "C:\\ProgramData\\Anaconda3\\lib\\site-packages\\sklearn\\utils\\deprecation.py:87: FutureWarning: Function get_feature_names is deprecated; get_feature_names is deprecated in 1.0 and will be removed in 1.2. Please use get_feature_names_out instead.\n",
      "  warnings.warn(msg, category=FutureWarning)\n"
     ]
    }
   ],
   "source": [
    "vocab_data = scalar.get_feature_names()"
   ]
  },
  {
   "cell_type": "code",
   "execution_count": 37,
   "metadata": {},
   "outputs": [
    {
     "data": {
      "text/plain": [
       "['00', '000', '007', '008', '01']"
      ]
     },
     "execution_count": 37,
     "metadata": {},
     "output_type": "execute_result"
    }
   ],
   "source": [
    "vocab_data[0:5]"
   ]
  },
  {
   "cell_type": "code",
   "execution_count": 38,
   "metadata": {},
   "outputs": [
    {
     "data": {
      "text/plain": [
       "86581"
      ]
     },
     "execution_count": 38,
     "metadata": {},
     "output_type": "execute_result"
    }
   ],
   "source": [
    "len(vocab_data)"
   ]
  },
  {
   "cell_type": "markdown",
   "metadata": {},
   "source": [
    "### Creating zero padded sequences of numbers"
   ]
  },
  {
   "cell_type": "markdown",
   "metadata": {},
   "source": [
    "I am going to incorporate similar vectorize_layer while creating actual model"
   ]
  },
  {
   "cell_type": "markdown",
   "metadata": {},
   "source": [
    "This is how the vectorize_layer works!"
   ]
  },
  {
   "cell_type": "code",
   "execution_count": 39,
   "metadata": {},
   "outputs": [
    {
     "data": {
      "text/plain": [
       "array([[2, 1, 3, 1, 0],\n",
       "       [1, 4, 0, 0, 0],\n",
       "       [2, 1, 3, 1, 1]], dtype=int64)"
      ]
     },
     "execution_count": 39,
     "metadata": {},
     "output_type": "execute_result"
    }
   ],
   "source": [
    "#Keras documentation itself\n",
    "#https://keras.io/api/layers/preprocessing_layers/text/text_vectorization/\n",
    "#This is not the exact copied code, its modified after.\n",
    "\n",
    "vocab_data_sample = [\"foo\", \"bar\", \"baz\"]\n",
    "max_features = len(vocab_data_sample) + 2 # Maximum vocab size.\n",
    "max_len = 5  # Sequence length to pad the outputs to.\n",
    "\n",
    "# Create the layer, passing the vocab directly. You can also pass the\n",
    "# vocabulary arg a path to a file containing one vocabulary word per\n",
    "# line.\n",
    "vectorize_layer = tf.keras.layers.TextVectorization(\n",
    "                    max_tokens=max_features,\n",
    "                    output_mode='int',\n",
    "                    output_sequence_length=max_len,\n",
    "                    vocabulary=vocab_data_sample)\n",
    "\n",
    "\n",
    "\n",
    " # Because we've passed the vocabulary directly, we don't need to adapt\n",
    " # the layer - the vocabulary is already set. The vocabulary contains the\n",
    " # padding token ('') and OOV token ('[UNK]') as well as the passed tokens.\n",
    "vectorize_layer.get_vocabulary()\n",
    "#['', '[UNK]', 'earth', 'wind', 'and', 'fire']\n",
    "\n",
    "model = tf.keras.models.Sequential()\n",
    "model.add(tf.keras.Input(shape=(1,), dtype=tf.string))\n",
    "model.add(vectorize_layer)\n",
    "input_data = [[\"foo qux bar hello\"], [\"qux baz\"], [\"foo qux bar hello qux baz\"]]\n",
    "model.predict(input_data)"
   ]
  },
  {
   "cell_type": "markdown",
   "metadata": {},
   "source": [
    "Lets check on actual dataset"
   ]
  },
  {
   "cell_type": "code",
   "execution_count": 40,
   "metadata": {},
   "outputs": [],
   "source": [
    "#print(vocab_data)"
   ]
  },
  {
   "cell_type": "code",
   "execution_count": 41,
   "metadata": {},
   "outputs": [
    {
     "name": "stdout",
     "output_type": "stream",
     "text": [
      "4222    have had running with mhz osc for few months h...\n",
      "6505    looking for copy last film anyone has copy thi...\n",
      "2178    article hey does anyone know ftp site where ca...\n",
      "9774    for updated playoff updates mail with the subj...\n",
      "4827    trying implement pointer feature xlib have mul...\n",
      "Name: combined, dtype: object\n",
      "[[31667 31056 64594 ...     0     0     0]\n",
      " [42912 27000 15124 ...     0     0     0]\n",
      " [ 4581 32314 20232 ...     0     0     0]\n",
      " [27000 78575 56660 ...     0     0     0]\n",
      " [76192 35158 56974 ...     0     0     0]]\n"
     ]
    }
   ],
   "source": [
    "#Keras documentation itself\n",
    "#https://keras.io/api/layers/preprocessing_layers/text/text_vectorization/\n",
    "\n",
    "#vocab_data - unique words in training dataset\n",
    "max_features = len(vocab_data) + 2 # Maximum vocab size.\n",
    "#max_len = max_sequence_length  # Sequence length to pad the outputs to.\n",
    "\n",
    "# Create the layer, passing the vocab directly. You can also pass the\n",
    "# vocabulary arg a path to a file containing one vocabulary word per\n",
    "# line.\n",
    "vectorize_layer = tf.keras.layers.TextVectorization(\n",
    "max_tokens=max_features,\n",
    "output_mode='int',\n",
    "output_sequence_length=max_sequence_length,\n",
    "vocabulary=vocab_data)\n",
    "\n",
    " # Because we've passed the vocabulary directly, we don't need to adapt\n",
    " # the layer - the vocabulary is already set. The vocabulary contains the\n",
    " # padding token ('') and OOV token ('[UNK]') as well as the passed tokens.\n",
    "vectorize_layer.get_vocabulary()\n",
    "#['', '[UNK]', 'earth', 'wind', 'and', 'fire']\n",
    "\n",
    "model = tf.keras.models.Sequential()\n",
    "model.add(tf.keras.Input(shape=(1,), dtype=tf.string))\n",
    "model.add(vectorize_layer)\n",
    "\n",
    "print(X_train[0:5])\n",
    "temp_sequences = model.predict(X_train[0:5].to_numpy())\n",
    "print(temp_sequences)"
   ]
  },
  {
   "cell_type": "markdown",
   "metadata": {},
   "source": [
    "Below vocablary and sequences created will be used later"
   ]
  },
  {
   "cell_type": "code",
   "execution_count": 42,
   "metadata": {},
   "outputs": [],
   "source": [
    "#This will be used to extract embedding vectors fro GloVe for each word in vocablary ...\n",
    "# using the index of the word in this vocab_produced list\n",
    "vocab_produced = vectorize_layer.get_vocabulary()\n",
    "\n",
    "#This will be used as input to the keras Input later of the model.\n",
    "x_train_sequences = model.predict(X_train)\n",
    "x_test_sequences  = model.predict(X_test.values)"
   ]
  },
  {
   "cell_type": "markdown",
   "metadata": {},
   "source": [
    "Create y_train"
   ]
  },
  {
   "cell_type": "code",
   "execution_count": 43,
   "metadata": {},
   "outputs": [
    {
     "name": "stderr",
     "output_type": "stream",
     "text": [
      "C:\\Users\\Pradip\\AppData\\Local\\Temp/ipykernel_5508/2905364387.py:2: FutureWarning: The default value of regex will change from True to False in a future version. In addition, single character regular expressions will *not* be treated as literal strings when regex=True.\n",
      "  Y_train = Y_train.str.replace('.','_')\n",
      "C:\\Users\\Pradip\\AppData\\Local\\Temp/ipykernel_5508/2905364387.py:5: FutureWarning: The default value of regex will change from True to False in a future version. In addition, single character regular expressions will *not* be treated as literal strings when regex=True.\n",
      "  Y_test = Y_test.str.replace('.','_')\n"
     ]
    }
   ],
   "source": [
    "Y_train = Y_train.str.replace('-','_')\n",
    "Y_train = Y_train.str.replace('.','_')\n",
    "\n",
    "Y_test = Y_test.str.replace('-','_')\n",
    "Y_test = Y_test.str.replace('.','_')"
   ]
  },
  {
   "cell_type": "code",
   "execution_count": 44,
   "metadata": {},
   "outputs": [
    {
     "name": "stdout",
     "output_type": "stream",
     "text": [
      "comp_sys_mac_hardware misc_forsale comp_os_ms_windows_misc rec_sport_hockey comp_windows_x talk_politics_guns rec_autos rec_motorcycles comp_sys_ibm_pc_hardware sci_electronics sci_space sci_crypt rec_sport_baseball soc_religion_christian talk_politics_mideast alt_atheism sci_med talk_politics_misc comp_graphics talk_religion_misc\n"
     ]
    },
    {
     "data": {
      "text/plain": [
       "CountVectorizer()"
      ]
     },
     "execution_count": 44,
     "metadata": {},
     "output_type": "execute_result"
    }
   ],
   "source": [
    "label_corpus = ' '.join([str(e) for e in Y_train.unique()])\n",
    "print(label_corpus)\n",
    "\n",
    "from sklearn.feature_extraction.text import CountVectorizer\n",
    "vectorizer = CountVectorizer()\n",
    "vectorizer.fit(Y_train)"
   ]
  },
  {
   "cell_type": "code",
   "execution_count": 45,
   "metadata": {},
   "outputs": [],
   "source": [
    "y_train = vectorizer.transform(Y_train).toarray()\n",
    "y_test  = vectorizer.transform(Y_test) .toarray()"
   ]
  },
  {
   "cell_type": "code",
   "execution_count": 46,
   "metadata": {},
   "outputs": [
    {
     "data": {
      "text/plain": [
       "array([[0, 0, 0, 0, 1, 0, 0, 0, 0, 0, 0, 0, 0, 0, 0, 0, 0, 0, 0, 0],\n",
       "       [0, 0, 0, 0, 0, 0, 1, 0, 0, 0, 0, 0, 0, 0, 0, 0, 0, 0, 0, 0],\n",
       "       [0, 0, 1, 0, 0, 0, 0, 0, 0, 0, 0, 0, 0, 0, 0, 0, 0, 0, 0, 0],\n",
       "       [0, 0, 0, 0, 0, 0, 0, 0, 0, 0, 1, 0, 0, 0, 0, 0, 0, 0, 0, 0],\n",
       "       [0, 0, 0, 0, 0, 1, 0, 0, 0, 0, 0, 0, 0, 0, 0, 0, 0, 0, 0, 0]],\n",
       "      dtype=int64)"
      ]
     },
     "execution_count": 46,
     "metadata": {},
     "output_type": "execute_result"
    }
   ],
   "source": [
    "y_train[0:5]"
   ]
  },
  {
   "cell_type": "code",
   "execution_count": 47,
   "metadata": {},
   "outputs": [
    {
     "data": {
      "text/plain": [
       "4222      comp_sys_mac_hardware\n",
       "6505               misc_forsale\n",
       "2178    comp_os_ms_windows_misc\n",
       "9774           rec_sport_hockey\n",
       "4827             comp_windows_x\n",
       "Name: class, dtype: object"
      ]
     },
     "execution_count": 47,
     "metadata": {},
     "output_type": "execute_result"
    }
   ],
   "source": [
    "Y_train[0:5]"
   ]
  },
  {
   "cell_type": "code",
   "execution_count": 48,
   "metadata": {},
   "outputs": [
    {
     "data": {
      "text/plain": [
       "array(['alt_atheism', 'comp_graphics', 'comp_os_ms_windows_misc',\n",
       "       'comp_sys_ibm_pc_hardware', 'comp_sys_mac_hardware',\n",
       "       'comp_windows_x', 'misc_forsale', 'rec_autos', 'rec_motorcycles',\n",
       "       'rec_sport_baseball', 'rec_sport_hockey', 'sci_crypt',\n",
       "       'sci_electronics', 'sci_med', 'sci_space',\n",
       "       'soc_religion_christian', 'talk_politics_guns',\n",
       "       'talk_politics_mideast', 'talk_politics_misc',\n",
       "       'talk_religion_misc'], dtype=object)"
      ]
     },
     "execution_count": 48,
     "metadata": {},
     "output_type": "execute_result"
    }
   ],
   "source": [
    "vectorizer.get_feature_names_out()"
   ]
  },
  {
   "cell_type": "markdown",
   "metadata": {},
   "source": [
    "Alternate approch to create right padded sequences of numbers.\n",
    "* tf.keras \"Tokenizer\" API, it removes the \"_\""
   ]
  },
  {
   "cell_type": "code",
   "execution_count": 49,
   "metadata": {},
   "outputs": [
    {
     "data": {
      "text/plain": [
       "'\\n#Below approach also can be used to create the right padded sequences of numbers.\\n#Since I am going to use above vectorize_layer, below code I have not tested.\\nt = Tokenizer()\\nt.fit_on_texts(word_corpus)\\nvocab_size = len(t.word_index) + 1\\nprint(\"Number of unique words: \", vocab_size)\\n# integer encode the documents\\nx_train = t.texts_to_sequences(X_train)\\nx_test  = t.texts_to_sequences(X_test)\\n'"
      ]
     },
     "execution_count": 49,
     "metadata": {},
     "output_type": "execute_result"
    }
   ],
   "source": [
    "'''\n",
    "#Below approach also can be used to create the right padded sequences of numbers.\n",
    "#Since I am going to use above vectorize_layer, below code I have not tested.\n",
    "t = Tokenizer()\n",
    "t.fit_on_texts(word_corpus)\n",
    "vocab_size = len(t.word_index) + 1\n",
    "print(\"Number of unique words: \", vocab_size)\n",
    "# integer encode the documents\n",
    "x_train = t.texts_to_sequences(X_train)\n",
    "x_test  = t.texts_to_sequences(X_test)\n",
    "'''"
   ]
  },
  {
   "cell_type": "markdown",
   "metadata": {},
   "source": [
    "## Figuring out for models to be trained"
   ]
  },
  {
   "cell_type": "markdown",
   "metadata": {},
   "source": [
    "##### getting my brain dirty, not hands! "
   ]
  },
  {
   "cell_type": "markdown",
   "metadata": {},
   "source": [
    "Metrics to be considered\n",
    "* \"categorical_crossentropy\" as Loss\n",
    "*  Accuracy and Micro Avgeraged F1 score as my as Key metrics to evaluate my model"
   ]
  },
  {
   "cell_type": "markdown",
   "metadata": {},
   "source": [
    "Model weights and results visualization\n",
    "* Tensorboard to plot the loss and Metrics based on the epoches\n",
    "* I can save save my best model weights in to 'best_model_L.h5' ( L = 1 or 2 )\n",
    "* I am going to save my model to image ( can plot the model) with shapes and inlcude those images in the notebook markdown cell. I can use \"plot model\"\n",
    "* Plotting model with shapes can be checked here https://www.tensorflow.org/api_docs/python/tf/keras/utils/plot_model"
   ]
  },
  {
   "cell_type": "markdown",
   "metadata": {},
   "source": [
    "I need to decide below parameters\n",
    "* Activation function, learning rate, optimizer."
   ]
  },
  {
   "cell_type": "markdown",
   "metadata": {},
   "source": [
    "Early Stopping technique or any of the callback techniques can be used !"
   ]
  },
  {
   "cell_type": "markdown",
   "metadata": {},
   "source": [
    "Encoding of the Text --> \n",
    "* For a given text data create a Matrix with Embedding layer as shown Below. \n",
    "* In the example we have considered d = 5, but in this assignment we will get d = dimension of Word vectors we are using.\n",
    "* i.e if we have maximum of 350 words in a sentence and embedding of 300 dim word vector, we result in 350*300 dimensional matrix for each sentance as output after embedding layer\n",
    "* <img src=\"https://i.imgur.com/kiVQuk1.png\" alt=\"drawing\" width=\"200\">\n",
    "* https://stats.stackexchange.com/questions/270546/how-does-keras-embedding-layer-work"
   ]
  },
  {
   "cell_type": "markdown",
   "metadata": {},
   "source": [
    "#### How embedding Layer works?\n",
    "* Embedding(7, 2, input_length=5)\n",
    "* Embedding(unique_numbers_in_sequences, output_length, input_length=5)\n",
    "* For each number it creates the vector of length 2\n",
    "* It creates 7 vectors of dimensiobn 2 each\n",
    "* For each number in the input sequence, it replaces the respective vector. "
   ]
  },
  {
   "cell_type": "markdown",
   "metadata": {},
   "source": [
    "https://stats.stackexchange.com/questions/270546/how-does-keras-embedding-layer-work"
   ]
  },
  {
   "cell_type": "markdown",
   "metadata": {},
   "source": [
    "Embedding(7, 2, input_length=5)"
   ]
  },
  {
   "cell_type": "markdown",
   "metadata": {},
   "source": [
    "* +------------+------------+\n",
    "* |   index    |  Embedding |\n",
    "* +------------+------------+\n",
    "* |     0      | [1.2, 3.1] |\n",
    "* |     1      | [0.1, 4.2] |\n",
    "* |     2      | [1.0, 3.1] |\n",
    "* |     3      | [0.3, 2.1] |\n",
    "* |     4      | [2.2, 1.4] |\n",
    "* |     5      | [0.7, 1.7] |\n",
    "* |     6      | [4.1, 2.0] |\n",
    "* +------------+------------+"
   ]
  },
  {
   "cell_type": "markdown",
   "metadata": {},
   "source": [
    "Inputs:\n",
    "\n",
    "[0, 1, 2, 3, 4]\n",
    "\n",
    "[5, 1, 2, 3, 6]"
   ]
  },
  {
   "cell_type": "markdown",
   "metadata": {},
   "source": [
    "Output (for second input vector):"
   ]
  },
  {
   "cell_type": "markdown",
   "metadata": {},
   "source": [
    "[[0.7, 1.7], [0.1, 4.2], [1.0, 3.1], [0.3, 2.1], [4.1, 2.0]]"
   ]
  },
  {
   "cell_type": "markdown",
   "metadata": {},
   "source": [
    "##### Thanks not all folks, model is yet to be trained! :P"
   ]
  },
  {
   "cell_type": "markdown",
   "metadata": {},
   "source": [
    "## Embedding using GloVe vector\n",
    "#### Preparing the Embedding layer using GloVe vector\n",
    "* Read about \"Global Vectors for Word Representation\" here https://nlp.stanford.edu/projects/glove/\n",
    "* glove.6B.300d.txt is downloaded from here http://nlp.stanford.edu/data/glove.6B.zip"
   ]
  },
  {
   "cell_type": "code",
   "execution_count": 50,
   "metadata": {},
   "outputs": [
    {
     "name": "stderr",
     "output_type": "stream",
     "text": [
      "400000it [00:33, 11859.27it/s]\n"
     ]
    },
    {
     "name": "stdout",
     "output_type": "stream",
     "text": [
      "Found 400000 word vectors.\n"
     ]
    },
    {
     "name": "stderr",
     "output_type": "stream",
     "text": [
      "100%|████████████████████████████████████████████████████████████████████████| 86583/86583 [00:00<00:00, 408416.09it/s]\n"
     ]
    }
   ],
   "source": [
    "#Code copied from Keras documentation itself. And modified slighly according to my requirement\n",
    "#https://blog.keras.io/using-pre-trained-word-embeddings-in-a-keras-model.html\n",
    "embeddings_index = {}\n",
    "GLOVE_DIR = '.'\n",
    "EMBEDDING_DIM = 300\n",
    "\n",
    "f = open(os.path.join(GLOVE_DIR, 'glove.6B.' + str(EMBEDDING_DIM) + 'd.txt'), encoding=\"utf8\")\n",
    "for line in tqdm(f):\n",
    "    values = line.split()\n",
    "    word = values[0]\n",
    "    coefs = np.asarray(values[1:], dtype='float32')\n",
    "    embeddings_index[word] = coefs\n",
    "f.close()\n",
    "\n",
    "print('Found %s word vectors.' % len(embeddings_index))\n",
    "\n",
    "vocab_not_in_glov = []\n",
    "embedding_matrix = np.zeros((len(vocab_produced), EMBEDDING_DIM))\n",
    "for i in tqdm(np.arange(len(vocab_produced))):\n",
    "    word = vocab_produced[i]    \n",
    "    embedding_vector = embeddings_index.get(word)\n",
    "    #print(i,word, embedding_vector)\n",
    "    if embedding_vector is not None:\n",
    "        # words not found in embedding index will be all-zeros.\n",
    "        embedding_matrix[i] = embedding_vector\n",
    "    else:\n",
    "        vocab_not_in_glov.append(word)"
   ]
  },
  {
   "cell_type": "code",
   "execution_count": 51,
   "metadata": {},
   "outputs": [
    {
     "name": "stdout",
     "output_type": "stream",
     "text": [
      "86583\n",
      "34781\n"
     ]
    }
   ],
   "source": [
    "print(len(vocab_produced))\n",
    "print(len(vocab_not_in_glov))"
   ]
  },
  {
   "cell_type": "code",
   "execution_count": 52,
   "metadata": {},
   "outputs": [
    {
     "name": "stdout",
     "output_type": "stream",
     "text": [
      "['', '[UNK]', '02at', '04g', '0a', '0dv', '0f0064', '0f3', '0jv', '0jz', '0x000c', '0x0069', '1000w', '100ns', '1028x1024', '1084s', '10w40', '110v', '1200dpi', '120mb', '120v', '120vac', '125mb', '1280x1024', '1304s', '130mb', '130mhd', '13k', '1440k', '144mhz', '146gtl', '14in', '150w', '1542a', '1542b', '154m', '1600x1200x256', '16242', '16550', '16550a', '165c', '16mhz', '180mb', '1bil', '1meg', '1ph4', '1pl7', '1py', '200a', '200cd', '20mb', '20mhz', '20w50', '210m', '22600', '2400bps', '240at', '24bit', '24gc', '24sx', '25mhz', '2623a', '27c64', '27x', '280z', '2a0du48', '2ci', '2mtr', '2sa634', '2sc1096', '2themax', '300e', '300i', '30826', '30d', '30mb', '3144', '32bis', '32bit', '32plus', '3300sl', '33dx', '33mhz', '33v', '340sy', '3479p', '360k', '36pcs', '376h', '386dx', '386i', '386sl', '386sx', '3c503', '3ci', '3cm9809', '3comm', '3d2', '3dbench', '3dd', '3dh', '3dh4', '3dstudio', '3dy', '3hp', '3watt', '4000s', '40mhz', '40sc', '41m', '440mhz', '44mb', '44mg', '4778', '486dlc', '486dru2', '486dx', '486dx2', '486dx33', '486dx50', '486slc', '486sx', '48s', '48sx', '49cm', '4c6v', '4dx', '4mram', '4sale', '5024', '50dx', '50dx2', '510te', '512ke', '52khz', '53iss6', '5426', '542b', '550c', '550i', '56001', '56914', '58321', '5fg', '5fgx', '5mhz', '5of5', '5spd', '5w30', '600rpm', '60ns', '640k', '640x400', '64kcache', '6551', '6551a', '660mb', '66dx2', '66mhz', '66v', '68008', '680x0', '68hc11', '68hc16', '68lc040', '68rc040', '6903', '7080at', '70ns', '74act', '768x1024', '77p20', '80486dx', '80486dx2', '80586dx2', '80at', '80ns', '8800cs', '8bit', '8l', '8xl', '900mhz', '90c31', '9600bps', '96k', '96oo', '9pin', '_0vb4', '___fax', '_christianity', '_deltree_', '_dlsym', '_do_', '_exhausted', '_i_', '_is_', '_negative_', '_the', '_the_two_babylons_', '_vendorshellwidgetclass']\n"
     ]
    }
   ],
   "source": [
    "print(vocab_not_in_glov[0:200])"
   ]
  },
  {
   "cell_type": "markdown",
   "metadata": {},
   "source": [
    "## Model 1"
   ]
  },
  {
   "cell_type": "markdown",
   "metadata": {},
   "source": [
    "* Layer to convert 'sequences of words'  to 'right padded sequencees of numbers'\n",
    "* 'Sequences of words' here is all data points in X_train"
   ]
  },
  {
   "cell_type": "markdown",
   "metadata": {},
   "source": [
    "Model 1 which I am going to create"
   ]
  },
  {
   "cell_type": "markdown",
   "metadata": {},
   "source": [
    "<img src=\"https://i.imgur.com/fv1GvFJ.png\" alt=\"drawing\" width=\"400\">"
   ]
  },
  {
   "cell_type": "markdown",
   "metadata": {},
   "source": [
    "#### Defining the model 1"
   ]
  },
  {
   "cell_type": "code",
   "execution_count": 53,
   "metadata": {},
   "outputs": [
    {
     "name": "stdout",
     "output_type": "stream",
     "text": [
      "274\n",
      "274\n"
     ]
    }
   ],
   "source": [
    "print(len(x_train_sequences[0]))\n",
    "max_length = x_train_sequences.shape[1]\n",
    "print(max_length)"
   ]
  },
  {
   "cell_type": "code",
   "execution_count": 54,
   "metadata": {},
   "outputs": [
    {
     "name": "stdout",
     "output_type": "stream",
     "text": [
      "[[31667 31056 64594 ...     0     0     0]\n",
      " [42912 27000 15124 ...     0     0     0]\n",
      " [ 4581 32314 20232 ...     0     0     0]\n",
      " ...\n",
      " [46981 81391 82832 ...     0     0     0]\n",
      " [20232  3673 40196 ...     0     0     0]\n",
      " [ 7342 70712 63077 ...     0     0     0]]\n"
     ]
    }
   ],
   "source": [
    "print(x_train_sequences)"
   ]
  },
  {
   "cell_type": "code",
   "execution_count": 55,
   "metadata": {},
   "outputs": [
    {
     "name": "stdout",
     "output_type": "stream",
     "text": [
      "(14024, 274)\n",
      "(86583, 300)\n"
     ]
    }
   ],
   "source": [
    "print(x_train_sequences.shape)\n",
    "print(embedding_matrix.shape)"
   ]
  },
  {
   "cell_type": "code",
   "execution_count": 56,
   "metadata": {},
   "outputs": [],
   "source": [
    "input_layer1      = Input(shape=(max_length,), name='input_layer1')\n",
    "\n",
    "#embedding_matrix here has index wize words matrix; One array per one word.\n",
    "#Index is sequence number here.\n",
    "x  = Embedding(len(vocab_produced),\n",
    "                            EMBEDDING_DIM,\n",
    "                            weights=[embedding_matrix],\n",
    "                            input_length=max_sequence_length,\n",
    "                            trainable=False) (input_layer1)\n",
    "\n",
    "\n",
    "i1            = Conv1D(8,  2, padding='same', strides = 1, activation='relu', \\\n",
    "                           kernel_initializer = tf.keras.initializers.HeUniform())(x)\n",
    "\n",
    "i2            = Conv1D(8,  2, padding='same', strides = 1, activation='relu' , \\\n",
    "                           kernel_initializer = tf.keras.initializers.HeUniform() )(x)\n",
    " \n",
    "i3           = Conv1D(8, 2 , padding='same', strides = 1, activation='relu', \\\n",
    "                           kernel_initializer = tf.keras.initializers.HeUniform() )(x)\n",
    "\n",
    "x            = concatenate([i1, i2, i3])\n",
    "\n",
    "\n",
    "x   = MaxPool1D(2, padding='same', strides=1, \\\n",
    "                             name='maxpool_layer4')(x)\n",
    "\n",
    "\n",
    "i4    = Conv1D(5,   2, padding='same', strides = 2, activation='relu', \\\n",
    "                    kernel_initializer = tf.keras.initializers.HeUniform() )(x)\n",
    "i5   = Conv1D(5,  2, padding='same', strides = 2, activation='relu', \\\n",
    "                           kernel_initializer = tf.keras.initializers.HeUniform() )(x)\n",
    "i6   = Conv1D(5,  2, padding='same', strides = 2, activation='relu', \\\n",
    "                           kernel_initializer = tf.keras.initializers.HeUniform() )(x)\n",
    "x    = concatenate([i4, i5, i6])\n",
    "\n",
    "\n",
    "x   = MaxPool1D(2, padding='same', strides = 1, \\\n",
    "                             name='maxpool_layer6')(x)\n",
    "\n",
    "x    = Conv1D(4, 3, padding='valid', activation='relu', \\\n",
    "                               kernel_initializer = tf.keras.initializers.HeUniform())(x)\n",
    "                        #16 number of filters with kernel or filter size 4\n",
    "    \n",
    "x       = Flatten()(x)\n",
    "x       = Dropout(0.1)(x)\n",
    "x       = Dense(16, activation='relu', kernel_initializer= 'glorot_normal' ,  kernel_regularizer = tf.keras.regularizers.l2(l = 0.005) )(x)\n",
    "x       = Dropout(0.1)(x)\n",
    "\n",
    "dense_softmax = Dense(20, activation='softmax', kernel_initializer = 'glorot_normal' , name='dense_softmax')(x)"
   ]
  },
  {
   "cell_type": "markdown",
   "metadata": {},
   "source": [
    "Model1 summary"
   ]
  },
  {
   "cell_type": "code",
   "execution_count": 57,
   "metadata": {},
   "outputs": [
    {
     "name": "stdout",
     "output_type": "stream",
     "text": [
      "Model Summary:\n",
      "Model: \"model\"\n",
      "__________________________________________________________________________________________________\n",
      " Layer (type)                   Output Shape         Param #     Connected to                     \n",
      "==================================================================================================\n",
      " input_layer1 (InputLayer)      [(None, 274)]        0           []                               \n",
      "                                                                                                  \n",
      " embedding (Embedding)          (None, 274, 300)     25974900    ['input_layer1[0][0]']           \n",
      "                                                                                                  \n",
      " conv1d (Conv1D)                (None, 274, 8)       4808        ['embedding[0][0]']              \n",
      "                                                                                                  \n",
      " conv1d_1 (Conv1D)              (None, 274, 8)       4808        ['embedding[0][0]']              \n",
      "                                                                                                  \n",
      " conv1d_2 (Conv1D)              (None, 274, 8)       4808        ['embedding[0][0]']              \n",
      "                                                                                                  \n",
      " concatenate (Concatenate)      (None, 274, 24)      0           ['conv1d[0][0]',                 \n",
      "                                                                  'conv1d_1[0][0]',               \n",
      "                                                                  'conv1d_2[0][0]']               \n",
      "                                                                                                  \n",
      " maxpool_layer4 (MaxPooling1D)  (None, 274, 24)      0           ['concatenate[0][0]']            \n",
      "                                                                                                  \n",
      " conv1d_3 (Conv1D)              (None, 137, 5)       245         ['maxpool_layer4[0][0]']         \n",
      "                                                                                                  \n",
      " conv1d_4 (Conv1D)              (None, 137, 5)       245         ['maxpool_layer4[0][0]']         \n",
      "                                                                                                  \n",
      " conv1d_5 (Conv1D)              (None, 137, 5)       245         ['maxpool_layer4[0][0]']         \n",
      "                                                                                                  \n",
      " concatenate_1 (Concatenate)    (None, 137, 15)      0           ['conv1d_3[0][0]',               \n",
      "                                                                  'conv1d_4[0][0]',               \n",
      "                                                                  'conv1d_5[0][0]']               \n",
      "                                                                                                  \n",
      " maxpool_layer6 (MaxPooling1D)  (None, 137, 15)      0           ['concatenate_1[0][0]']          \n",
      "                                                                                                  \n",
      " conv1d_6 (Conv1D)              (None, 135, 4)       184         ['maxpool_layer6[0][0]']         \n",
      "                                                                                                  \n",
      " flatten (Flatten)              (None, 540)          0           ['conv1d_6[0][0]']               \n",
      "                                                                                                  \n",
      " dropout (Dropout)              (None, 540)          0           ['flatten[0][0]']                \n",
      "                                                                                                  \n",
      " dense (Dense)                  (None, 16)           8656        ['dropout[0][0]']                \n",
      "                                                                                                  \n",
      " dropout_1 (Dropout)            (None, 16)           0           ['dense[0][0]']                  \n",
      "                                                                                                  \n",
      " dense_softmax (Dense)          (None, 20)           340         ['dropout_1[0][0]']              \n",
      "                                                                                                  \n",
      "==================================================================================================\n",
      "Total params: 25,999,239\n",
      "Trainable params: 24,339\n",
      "Non-trainable params: 25,974,900\n",
      "__________________________________________________________________________________________________\n"
     ]
    }
   ],
   "source": [
    "#model1 = Model(inputs=inputs_, outputs=outputs_)\n",
    "model1 = Model(inputs=input_layer1, outputs=dense_softmax)\n",
    "print(\"Model Summary:\")\n",
    "model1.summary()"
   ]
  },
  {
   "cell_type": "markdown",
   "metadata": {},
   "source": [
    "Adjusting learninng rate across multiple trials based on inference for from training the model"
   ]
  },
  {
   "cell_type": "code",
   "execution_count": 58,
   "metadata": {},
   "outputs": [
    {
     "name": "stdout",
     "output_type": "stream",
     "text": [
      "Model Compiled!\n"
     ]
    }
   ],
   "source": [
    "#lr = 0.1 #Not ok\n",
    "#lr = 0.005 #Not ok\n",
    "#lr = 0.001 #Adam default\n",
    "#lr = 0.0005\n",
    "#lr = 1\n",
    "#lr = 10\n",
    "#lr = 100 # Not ok 43% accuracy\n",
    "#lr = 500\n",
    "#lr = 1000 #ok\n",
    "#lr = 10000\n",
    "#opt = tf.keras.optimizers.Adam(#learning_rate=lr,\n",
    "#                               #clipnorm=1 )\n",
    "\n",
    "model1.compile(optimizer = tf.keras.optimizers.Adam(), \n",
    "               loss      ='categorical_crossentropy', \n",
    "               metrics   =['accuracy'\n",
    "                            #tf.keras.metrics.Accuracy()\n",
    "                            #, tfa.metrics.F1Score(num_classes=20, threshold= 0.5, average='micro')\n",
    "                            , tfa.metrics.FBetaScore(num_classes=20, threshold= 0.5, average='micro')\n",
    "                           ])\n",
    "print(\"Model Compiled!\")"
   ]
  },
  {
   "cell_type": "markdown",
   "metadata": {},
   "source": [
    "#### Defining Callbacks"
   ]
  },
  {
   "cell_type": "markdown",
   "metadata": {},
   "source": [
    "##### Tensorboard Callback"
   ]
  },
  {
   "cell_type": "code",
   "execution_count": 59,
   "metadata": {},
   "outputs": [
    {
     "name": "stdout",
     "output_type": "stream",
     "text": [
      "WARNING:tensorflow:`write_grads` will be ignored in TensorFlow 2.0 for the `TensorBoard` Callback.\n"
     ]
    }
   ],
   "source": [
    "%load_ext tensorboard\n",
    "log_dir=\"logs_tsboard/fit/\" + datetime.datetime.now().strftime(\"%Y%m%d-%H%M%S\")\n",
    "tensorboard_callback = tf.keras.callbacks.TensorBoard(log_dir=log_dir, \n",
    "                                                      histogram_freq=1, \n",
    "                                                      write_graph=True,\n",
    "                                                      write_grads=True)"
   ]
  },
  {
   "cell_type": "markdown",
   "metadata": {},
   "source": [
    "Run this command in command prompt while model is getting trained\n",
    "* %tensorboard --logdir logs_tsboard/fit/"
   ]
  },
  {
   "cell_type": "markdown",
   "metadata": {},
   "source": [
    "#### Early Stopping and Model Checkpoint Callbacks"
   ]
  },
  {
   "cell_type": "code",
   "execution_count": 60,
   "metadata": {},
   "outputs": [],
   "source": [
    "#https://machinelearningmastery.com/how-to-stop-training-deep-neural-networks-at-the-right-time-using-early-stopping/\n",
    "# patient early stopping\n",
    "es = EarlyStopping(monitor='val_fbeta_score', mode='max', min_delta=0.001, verbose=1, patience=10)\n",
    "mc = ModelCheckpoint('best_model1.h5', monitor='val_fbeta_score', mode='max', verbose=1, save_best_only=True)"
   ]
  },
  {
   "cell_type": "code",
   "execution_count": 61,
   "metadata": {},
   "outputs": [
    {
     "data": {
      "text/plain": [
       "array([0, 0, 0, 0, 0, 0, 0, 0, 0, 0, 0, 0, 0, 0, 0, 0, 0, 0, 0, 1],\n",
       "      dtype=int64)"
      ]
     },
     "execution_count": 61,
     "metadata": {},
     "output_type": "execute_result"
    }
   ],
   "source": [
    "y_test[0]"
   ]
  },
  {
   "cell_type": "markdown",
   "metadata": {},
   "source": [
    "#### Fit or train the model"
   ]
  },
  {
   "cell_type": "code",
   "execution_count": 62,
   "metadata": {
    "scrolled": false
   },
   "outputs": [
    {
     "name": "stdout",
     "output_type": "stream",
     "text": [
      "Epoch 1/50\n",
      "55/55 [==============================] - ETA: 0s - loss: 3.1228 - accuracy: 0.0596 - fbeta_score: 0.0000e+00\n",
      "Epoch 00001: val_fbeta_score improved from -inf to 0.00000, saving model to best_model1.h5\n",
      "55/55 [==============================] - 18s 256ms/step - loss: 3.1228 - accuracy: 0.0596 - fbeta_score: 0.0000e+00 - val_loss: 3.0538 - val_accuracy: 0.0682 - val_fbeta_score: 0.0000e+00\n",
      "Epoch 2/50\n",
      "55/55 [==============================] - ETA: 0s - loss: 2.8896 - accuracy: 0.1122 - fbeta_score: 0.0241\n",
      "Epoch 00002: val_fbeta_score improved from 0.00000 to 0.04696, saving model to best_model1.h5\n",
      "55/55 [==============================] - 10s 183ms/step - loss: 2.8896 - accuracy: 0.1122 - fbeta_score: 0.0241 - val_loss: 2.5445 - val_accuracy: 0.1981 - val_fbeta_score: 0.0470\n",
      "Epoch 3/50\n",
      "55/55 [==============================] - ETA: 0s - loss: 2.3346 - accuracy: 0.2238 - fbeta_score: 0.0893\n",
      "Epoch 00003: val_fbeta_score improved from 0.04696 to 0.12842, saving model to best_model1.h5\n",
      "55/55 [==============================] - 10s 180ms/step - loss: 2.3346 - accuracy: 0.2238 - fbeta_score: 0.0893 - val_loss: 2.0131 - val_accuracy: 0.3153 - val_fbeta_score: 0.1284\n",
      "Epoch 4/50\n",
      "55/55 [==============================] - ETA: 0s - loss: 1.9878 - accuracy: 0.3173 - fbeta_score: 0.1707\n",
      "Epoch 00004: val_fbeta_score improved from 0.12842 to 0.22541, saving model to best_model1.h5\n",
      "55/55 [==============================] - 10s 178ms/step - loss: 1.9878 - accuracy: 0.3173 - fbeta_score: 0.1707 - val_loss: 1.7638 - val_accuracy: 0.4173 - val_fbeta_score: 0.2254\n",
      "Epoch 5/50\n",
      "55/55 [==============================] - ETA: 0s - loss: 1.7805 - accuracy: 0.3975 - fbeta_score: 0.2615 ETA: 3s - loss: 1.8260 - accuracy - ETA: 2s - los\n",
      "Epoch 00005: val_fbeta_score improved from 0.22541 to 0.29598, saving model to best_model1.h5\n",
      "55/55 [==============================] - 10s 178ms/step - loss: 1.7805 - accuracy: 0.3975 - fbeta_score: 0.2615 - val_loss: 1.5972 - val_accuracy: 0.4734 - val_fbeta_score: 0.2960\n",
      "Epoch 6/50\n",
      "55/55 [==============================] - ETA: 0s - loss: 1.6298 - accuracy: 0.4556 - fbeta_score: 0.3316\n",
      "Epoch 00006: val_fbeta_score improved from 0.29598 to 0.36560, saving model to best_model1.h5\n",
      "55/55 [==============================] - 10s 180ms/step - loss: 1.6298 - accuracy: 0.4556 - fbeta_score: 0.3316 - val_loss: 1.4942 - val_accuracy: 0.5121 - val_fbeta_score: 0.3656\n",
      "Epoch 7/50\n",
      "55/55 [==============================] - ETA: 0s - loss: 1.5337 - accuracy: 0.4839 - fbeta_score: 0.3794\n",
      "Epoch 00007: val_fbeta_score improved from 0.36560 to 0.40297, saving model to best_model1.h5\n",
      "55/55 [==============================] - 10s 178ms/step - loss: 1.5337 - accuracy: 0.4839 - fbeta_score: 0.3794 - val_loss: 1.4385 - val_accuracy: 0.5298 - val_fbeta_score: 0.4030\n",
      "Epoch 8/50\n",
      "55/55 [==============================] - ETA: 0s - loss: 1.4489 - accuracy: 0.5111 - fbeta_score: 0.4229 ETA: 4s - l - ETA: 1s - loss: 1.4\n",
      "Epoch 00008: val_fbeta_score improved from 0.40297 to 0.45560, saving model to best_model1.h5\n",
      "55/55 [==============================] - 10s 177ms/step - loss: 1.4489 - accuracy: 0.5111 - fbeta_score: 0.4229 - val_loss: 1.3902 - val_accuracy: 0.5399 - val_fbeta_score: 0.4556\n",
      "Epoch 9/50\n",
      "55/55 [==============================] - ETA: 0s - loss: 1.3866 - accuracy: 0.5260 - fbeta_score: 0.4500 ETA: 1s - loss: 1.3936 - accuracy: 0.52\n",
      "Epoch 00009: val_fbeta_score improved from 0.45560 to 0.47507, saving model to best_model1.h5\n",
      "55/55 [==============================] - 10s 179ms/step - loss: 1.3866 - accuracy: 0.5260 - fbeta_score: 0.4500 - val_loss: 1.3195 - val_accuracy: 0.5688 - val_fbeta_score: 0.4751\n",
      "Epoch 10/50\n",
      "55/55 [==============================] - ETA: 0s - loss: 1.3219 - accuracy: 0.5531 - fbeta_score: 0.4822\n",
      "Epoch 00010: val_fbeta_score improved from 0.47507 to 0.49723, saving model to best_model1.h5\n",
      "55/55 [==============================] - 10s 185ms/step - loss: 1.3219 - accuracy: 0.5531 - fbeta_score: 0.4822 - val_loss: 1.2798 - val_accuracy: 0.5793 - val_fbeta_score: 0.4972\n",
      "Epoch 11/50\n",
      "55/55 [==============================] - ETA: 0s - loss: 1.2771 - accuracy: 0.5685 - fbeta_score: 0.4991\n",
      "Epoch 00011: val_fbeta_score improved from 0.49723 to 0.51667, saving model to best_model1.h5\n",
      "55/55 [==============================] - 12s 215ms/step - loss: 1.2771 - accuracy: 0.5685 - fbeta_score: 0.4991 - val_loss: 1.2453 - val_accuracy: 0.5940 - val_fbeta_score: 0.5167\n",
      "Epoch 12/50\n",
      "55/55 [==============================] - ETA: 0s - loss: 1.2415 - accuracy: 0.5729 - fbeta_score: 0.5098 ETA: 5s - loss: 1.2039 - accuracy: 0.5977 - fbeta_score: 0.53 - ETA: 4s - loss: 1.2103 - accuracy: 0. - ETA: 3s - los - ETA: 1s - loss: 1.2457 - accuracy: 0.57\n",
      "Epoch 00012: val_fbeta_score improved from 0.51667 to 0.52919, saving model to best_model1.h5\n",
      "55/55 [==============================] - 10s 179ms/step - loss: 1.2415 - accuracy: 0.5729 - fbeta_score: 0.5098 - val_loss: 1.2477 - val_accuracy: 0.5979 - val_fbeta_score: 0.5292\n",
      "Epoch 13/50\n",
      "55/55 [==============================] - ETA: 0s - loss: 1.2089 - accuracy: 0.5866 - fbeta_score: 0.5309\n",
      "Epoch 00013: val_fbeta_score did not improve from 0.52919\n",
      "55/55 [==============================] - 9s 170ms/step - loss: 1.2089 - accuracy: 0.5866 - fbeta_score: 0.5309 - val_loss: 1.2363 - val_accuracy: 0.5936 - val_fbeta_score: 0.5246\n",
      "Epoch 14/50\n",
      "55/55 [==============================] - ETA: 0s - loss: 1.1600 - accuracy: 0.6033 - fbeta_score: 0.5473\n",
      "Epoch 00014: val_fbeta_score improved from 0.52919 to 0.55134, saving model to best_model1.h5\n",
      "55/55 [==============================] - 10s 178ms/step - loss: 1.1600 - accuracy: 0.6033 - fbeta_score: 0.5473 - val_loss: 1.1935 - val_accuracy: 0.6092 - val_fbeta_score: 0.5513\n",
      "Epoch 15/50\n",
      "55/55 [==============================] - ETA: 0s - loss: 1.1434 - accuracy: 0.6047 - fbeta_score: 0.5581 ETA: 0s - loss: 1.1449 - accuracy: 0.6038 - fbe\n",
      "Epoch 00015: val_fbeta_score improved from 0.55134 to 0.56019, saving model to best_model1.h5\n",
      "55/55 [==============================] - 10s 178ms/step - loss: 1.1434 - accuracy: 0.6047 - fbeta_score: 0.5581 - val_loss: 1.1959 - val_accuracy: 0.6111 - val_fbeta_score: 0.5602\n",
      "Epoch 16/50\n",
      "55/55 [==============================] - ETA: 0s - loss: 1.1176 - accuracy: 0.6164 - fbeta_score: 0.5629 ETA: 1s - loss: 1.1143 - accuracy: \n",
      "Epoch 00016: val_fbeta_score improved from 0.56019 to 0.56887, saving model to best_model1.h5\n",
      "55/55 [==============================] - 11s 200ms/step - loss: 1.1176 - accuracy: 0.6164 - fbeta_score: 0.5629 - val_loss: 1.1655 - val_accuracy: 0.6248 - val_fbeta_score: 0.5689\n",
      "Epoch 17/50\n",
      "55/55 [==============================] - ETA: 0s - loss: 1.0874 - accuracy: 0.6231 - fbeta_score: 0.5733 ETA: 4s - loss: 1.0914 - accuracy: 0.6198 - f - ETA: 0s - loss: 1.0843 - accuracy: 0.6213 - fbeta\n",
      "Epoch 00017: val_fbeta_score improved from 0.56887 to 0.58040, saving model to best_model1.h5\n",
      "55/55 [==============================] - 10s 180ms/step - loss: 1.0874 - accuracy: 0.6231 - fbeta_score: 0.5733 - val_loss: 1.1589 - val_accuracy: 0.6173 - val_fbeta_score: 0.5804\n",
      "Epoch 18/50\n",
      "55/55 [==============================] - ETA: 0s - loss: 1.0564 - accuracy: 0.6371 - fbeta_score: 0.5891\n",
      "Epoch 00018: val_fbeta_score did not improve from 0.58040\n",
      "55/55 [==============================] - 9s 170ms/step - loss: 1.0564 - accuracy: 0.6371 - fbeta_score: 0.5891 - val_loss: 1.1605 - val_accuracy: 0.6171 - val_fbeta_score: 0.5804\n",
      "Epoch 19/50\n",
      "55/55 [==============================] - ETA: 0s - loss: 1.0459 - accuracy: 0.6424 - fbeta_score: 0.5935 ETA: 2s - loss: 1.0382 - accuracy: 0.6445 - fbeta - ETA: 2s - loss: 1.0535 - accu - ETA: 0s - loss: 1.0417 - accuracy: 0.6442 - f\n",
      "Epoch 00019: val_fbeta_score improved from 0.58040 to 0.58953, saving model to best_model1.h5\n",
      "55/55 [==============================] - 10s 178ms/step - loss: 1.0459 - accuracy: 0.6424 - fbeta_score: 0.5935 - val_loss: 1.1422 - val_accuracy: 0.6235 - val_fbeta_score: 0.5895\n",
      "Epoch 20/50\n",
      "55/55 [==============================] - ETA: 0s - loss: 1.0158 - accuracy: 0.6562 - fbeta_score: 0.6094 ETA: 1s - loss: 1.0149 - \n",
      "Epoch 00020: val_fbeta_score improved from 0.58953 to 0.59473, saving model to best_model1.h5\n",
      "55/55 [==============================] - 10s 180ms/step - loss: 1.0158 - accuracy: 0.6562 - fbeta_score: 0.6094 - val_loss: 1.1405 - val_accuracy: 0.6359 - val_fbeta_score: 0.5947\n",
      "Epoch 21/50\n",
      "55/55 [==============================] - ETA: 0s - loss: 1.0057 - accuracy: 0.6536 - fbeta_score: 0.6098 ETA: 2s - loss: 1.0114 - accuracy: 0.6557 - fbeta - ETA: 1s - loss: 1.0095 - accuracy: 0.65 - ETA: 0s - loss: 1.0017 - accuracy: 0.6570 - f\n",
      "Epoch 00021: val_fbeta_score improved from 0.59473 to 0.59984, saving model to best_model1.h5\n",
      "55/55 [==============================] - 10s 177ms/step - loss: 1.0057 - accuracy: 0.6536 - fbeta_score: 0.6098 - val_loss: 1.1375 - val_accuracy: 0.6319 - val_fbeta_score: 0.5998\n",
      "Epoch 22/50\n",
      "55/55 [==============================] - ETA: 0s - loss: 0.9765 - accuracy: 0.6610 - fbeta_score: 0.6223\n",
      "Epoch 00022: val_fbeta_score improved from 0.59984 to 0.60013, saving model to best_model1.h5\n",
      "55/55 [==============================] - 11s 190ms/step - loss: 0.9765 - accuracy: 0.6610 - fbeta_score: 0.6223 - val_loss: 1.1304 - val_accuracy: 0.6402 - val_fbeta_score: 0.6001\n",
      "Epoch 23/50\n",
      "55/55 [==============================] - ETA: 0s - loss: 0.9619 - accuracy: 0.6705 - fbeta_score: 0.6305 ETA: 1s - loss: 0.9639 - accuracy: 0.\n",
      "Epoch 00023: val_fbeta_score improved from 0.60013 to 0.61865, saving model to best_model1.h5\n",
      "55/55 [==============================] - 10s 184ms/step - loss: 0.9619 - accuracy: 0.6705 - fbeta_score: 0.6305 - val_loss: 1.1198 - val_accuracy: 0.6460 - val_fbeta_score: 0.6187\n",
      "Epoch 24/50\n",
      "55/55 [==============================] - ETA: 0s - loss: 0.9381 - accuracy: 0.6781 - fbeta_score: 0.6380 ETA: 4s - loss: 0.9286 - accuracy: 0.\n",
      "Epoch 00024: val_fbeta_score did not improve from 0.61865\n",
      "55/55 [==============================] - 10s 171ms/step - loss: 0.9381 - accuracy: 0.6781 - fbeta_score: 0.6380 - val_loss: 1.1409 - val_accuracy: 0.6376 - val_fbeta_score: 0.6103\n",
      "Epoch 25/50\n",
      "55/55 [==============================] - ETA: 0s - loss: 0.9435 - accuracy: 0.6791 - fbeta_score: 0.6418\n",
      "Epoch 00025: val_fbeta_score did not improve from 0.61865\n",
      "55/55 [==============================] - 9s 169ms/step - loss: 0.9435 - accuracy: 0.6791 - fbeta_score: 0.6418 - val_loss: 1.1604 - val_accuracy: 0.6317 - val_fbeta_score: 0.6074\n",
      "Epoch 26/50\n",
      "55/55 [==============================] - ETA: 0s - loss: 0.9208 - accuracy: 0.6838 - fbeta_score: 0.6488\n",
      "Epoch 00026: val_fbeta_score improved from 0.61865 to 0.62361, saving model to best_model1.h5\n",
      "55/55 [==============================] - 11s 193ms/step - loss: 0.9208 - accuracy: 0.6838 - fbeta_score: 0.6488 - val_loss: 1.1258 - val_accuracy: 0.6475 - val_fbeta_score: 0.6236\n",
      "Epoch 27/50\n",
      "55/55 [==============================] - ETA: 0s - loss: 0.9041 - accuracy: 0.6902 - fbeta_score: 0.6587\n",
      "Epoch 00027: val_fbeta_score did not improve from 0.62361\n",
      "55/55 [==============================] - 10s 172ms/step - loss: 0.9041 - accuracy: 0.6902 - fbeta_score: 0.6587 - val_loss: 1.1247 - val_accuracy: 0.6468 - val_fbeta_score: 0.6218\n",
      "Epoch 28/50\n",
      "55/55 [==============================] - ETA: 0s - loss: 0.8879 - accuracy: 0.6928 - fbeta_score: 0.6633\n",
      "Epoch 00028: val_fbeta_score improved from 0.62361 to 0.63243, saving model to best_model1.h5\n",
      "55/55 [==============================] - 11s 204ms/step - loss: 0.8879 - accuracy: 0.6928 - fbeta_score: 0.6633 - val_loss: 1.1146 - val_accuracy: 0.6520 - val_fbeta_score: 0.6324\n",
      "Epoch 29/50\n",
      "55/55 [==============================] - ETA: 0s - loss: 0.8760 - accuracy: 0.7031 - fbeta_score: 0.6687\n",
      "Epoch 00029: val_fbeta_score improved from 0.63243 to 0.63643, saving model to best_model1.h5\n",
      "55/55 [==============================] - 10s 179ms/step - loss: 0.8760 - accuracy: 0.7031 - fbeta_score: 0.6687 - val_loss: 1.1317 - val_accuracy: 0.6509 - val_fbeta_score: 0.6364\n",
      "Epoch 30/50\n",
      "55/55 [==============================] - ETA: 0s - loss: 0.8731 - accuracy: 0.6999 - fbeta_score: 0.6734 ETA: 2s - loss: 0.8569 -  - ETA: 0s - loss: 0.8689 - accuracy: 0.7041 - fbe\n",
      "Epoch 00030: val_fbeta_score did not improve from 0.63643\n",
      "55/55 [==============================] - 9s 172ms/step - loss: 0.8731 - accuracy: 0.6999 - fbeta_score: 0.6734 - val_loss: 1.1130 - val_accuracy: 0.6558 - val_fbeta_score: 0.6359\n",
      "Epoch 31/50\n",
      "55/55 [==============================] - ETA: 0s - loss: 0.8541 - accuracy: 0.7082 - fbeta_score: 0.6811 ETA: 1s - loss: 0.8414 - accuracy: 0. - ETA: 0s - loss: 0.8516 - accuracy: 0.7098 - fbeta_score\n",
      "Epoch 00031: val_fbeta_score did not improve from 0.63643\n",
      "55/55 [==============================] - 9s 171ms/step - loss: 0.8541 - accuracy: 0.7082 - fbeta_score: 0.6811 - val_loss: 1.1301 - val_accuracy: 0.6458 - val_fbeta_score: 0.6263\n",
      "Epoch 32/50\n",
      "55/55 [==============================] - ETA: 0s - loss: 0.8416 - accuracy: 0.7164 - fbeta_score: 0.6847 ETA: 4s - loss: 0.8624 -  - E\n",
      "Epoch 00032: val_fbeta_score did not improve from 0.63643\n",
      "55/55 [==============================] - 10s 171ms/step - loss: 0.8416 - accuracy: 0.7164 - fbeta_score: 0.6847 - val_loss: 1.1372 - val_accuracy: 0.6503 - val_fbeta_score: 0.6296\n",
      "Epoch 33/50\n",
      "55/55 [==============================] - ETA: 0s - loss: 0.8407 - accuracy: 0.7150 - fbeta_score: 0.6858\n",
      "Epoch 00033: val_fbeta_score improved from 0.63643 to 0.64614, saving model to best_model1.h5\n",
      "55/55 [==============================] - 10s 179ms/step - loss: 0.8407 - accuracy: 0.7150 - fbeta_score: 0.6858 - val_loss: 1.1206 - val_accuracy: 0.6625 - val_fbeta_score: 0.6461\n",
      "Epoch 34/50\n",
      "55/55 [==============================] - ETA: 0s - loss: 0.8161 - accuracy: 0.7260 - fbeta_score: 0.7048 ETA: 3s - loss: - ETA: 0s - loss: 0.8094 - accuracy: 0.7270 - fbeta_score - ETA: 0s - loss: 0.8151 - accuracy: 0.7266 - fbeta_s\n",
      "Epoch 00034: val_fbeta_score did not improve from 0.64614\n",
      "55/55 [==============================] - 10s 173ms/step - loss: 0.8161 - accuracy: 0.7260 - fbeta_score: 0.7048 - val_loss: 1.1193 - val_accuracy: 0.6560 - val_fbeta_score: 0.6435\n",
      "Epoch 35/50\n",
      "55/55 [==============================] - ETA: 0s - loss: 0.8082 - accuracy: 0.7267 - fbeta_score: 0.7038 ETA: 3s - loss: 0.7889 - accura - ETA: 2s - loss: 0.8044 - accuracy:  - ETA: 1s - loss: 0.8007 - accuracy: 0.\n",
      "Epoch 00035: val_fbeta_score improved from 0.64614 to 0.64720, saving model to best_model1.h5\n",
      "55/55 [==============================] - 12s 217ms/step - loss: 0.8082 - accuracy: 0.7267 - fbeta_score: 0.7038 - val_loss: 1.1197 - val_accuracy: 0.6599 - val_fbeta_score: 0.6472\n",
      "Epoch 36/50\n",
      "55/55 [==============================] - ETA: 0s - loss: 0.7964 - accuracy: 0.7322 - fbeta_score: 0.7115 ETA: 1s - loss: 0.7911 - accuracy: 0.7324 - fbeta_score - ETA: 1s - loss: 0.7937 - accuracy: 0.73\n",
      "Epoch 00036: val_fbeta_score did not improve from 0.64720\n",
      "55/55 [==============================] - 10s 172ms/step - loss: 0.7964 - accuracy: 0.7322 - fbeta_score: 0.7115 - val_loss: 1.1331 - val_accuracy: 0.6580 - val_fbeta_score: 0.6472\n",
      "Epoch 37/50\n",
      "55/55 [==============================] - ETA: 0s - loss: 0.7886 - accuracy: 0.7330 - fbeta_score: 0.7135 ETA: 1s - loss: 0.7721 - \n",
      "Epoch 00037: val_fbeta_score did not improve from 0.64720\n",
      "55/55 [==============================] - 9s 170ms/step - loss: 0.7886 - accuracy: 0.7330 - fbeta_score: 0.7135 - val_loss: 1.1508 - val_accuracy: 0.6524 - val_fbeta_score: 0.6400\n",
      "Epoch 38/50\n",
      "55/55 [==============================] - ETA: 0s - loss: 0.7918 - accuracy: 0.7341 - fbeta_score: 0.7121 - ETA: 0s - loss: 0.7910 - accuracy: 0.7336 -\n",
      "Epoch 00038: val_fbeta_score did not improve from 0.64720\n",
      "55/55 [==============================] - 10s 172ms/step - loss: 0.7918 - accuracy: 0.7341 - fbeta_score: 0.7121 - val_loss: 1.1626 - val_accuracy: 0.6533 - val_fbeta_score: 0.6456\n",
      "Epoch 39/50\n",
      "55/55 [==============================] - ETA: 0s - loss: 0.7694 - accuracy: 0.7410 - fbeta_score: 0.7202 ETA: 3s - loss: 0.776 - ETA: 1s - loss: 0.7640 - accuracy: 0.7428 - - ETA: 0s - loss: 0.7620 - accuracy: 0.7451 - f\n",
      "Epoch 00039: val_fbeta_score did not improve from 0.64720\n",
      "55/55 [==============================] - 9s 170ms/step - loss: 0.7694 - accuracy: 0.7410 - fbeta_score: 0.7202 - val_loss: 1.1631 - val_accuracy: 0.6509 - val_fbeta_score: 0.6417\n",
      "Epoch 40/50\n",
      "55/55 [==============================] - ETA: 0s - loss: 0.7597 - accuracy: 0.7445 - fbeta_score: 0.7249\n",
      "Epoch 00040: val_fbeta_score improved from 0.64720 to 0.65702, saving model to best_model1.h5\n",
      "55/55 [==============================] - 10s 178ms/step - loss: 0.7597 - accuracy: 0.7445 - fbeta_score: 0.7249 - val_loss: 1.1508 - val_accuracy: 0.6603 - val_fbeta_score: 0.6570\n",
      "Epoch 41/50\n",
      "55/55 [==============================] - ETA: 0s - loss: 0.7583 - accuracy: 0.7495 - fbeta_score: 0.7313 ETA: 1s - loss: 0.7\n",
      "Epoch 00041: val_fbeta_score did not improve from 0.65702\n",
      "55/55 [==============================] - 9s 171ms/step - loss: 0.7583 - accuracy: 0.7495 - fbeta_score: 0.7313 - val_loss: 1.1376 - val_accuracy: 0.6599 - val_fbeta_score: 0.6554\n",
      "Epoch 42/50\n",
      "55/55 [==============================] - ETA: 0s - loss: 0.7345 - accuracy: 0.7521 - fbeta_score: 0.7354 ETA: 4s - loss: 0.7371  - ETA: 2s - l\n",
      "Epoch 00042: val_fbeta_score did not improve from 0.65702\n",
      "55/55 [==============================] - 9s 170ms/step - loss: 0.7345 - accuracy: 0.7521 - fbeta_score: 0.7354 - val_loss: 1.1621 - val_accuracy: 0.6582 - val_fbeta_score: 0.6530\n",
      "Epoch 43/50\n",
      "55/55 [==============================] - ETA: 0s - loss: 0.7344 - accuracy: 0.7507 - fbeta_score: 0.7370 ETA: 1s - loss: 0.7233 - accuracy: 0. - ETA: 0s - loss: 0.7318 - accuracy: 0.7507 - fbeta_sco\n",
      "Epoch 00043: val_fbeta_score did not improve from 0.65702\n",
      "55/55 [==============================] - 10s 171ms/step - loss: 0.7344 - accuracy: 0.7507 - fbeta_score: 0.7370 - val_loss: 1.1698 - val_accuracy: 0.6556 - val_fbeta_score: 0.6542\n",
      "Epoch 44/50\n",
      "55/55 [==============================] - ETA: 0s - loss: 0.7413 - accuracy: 0.7531 - fbeta_score: 0.7344 ETA: 3s - loss: 0.7589 - accuracy: 0.7467 -\n",
      "Epoch 00044: val_fbeta_score improved from 0.65702 to 0.66136, saving model to best_model1.h5\n",
      "55/55 [==============================] - 11s 197ms/step - loss: 0.7413 - accuracy: 0.7531 - fbeta_score: 0.7344 - val_loss: 1.1471 - val_accuracy: 0.6655 - val_fbeta_score: 0.6614\n",
      "Epoch 45/50\n",
      "55/55 [==============================] - ETA: 0s - loss: 0.7187 - accuracy: 0.7568 - fbeta_score: 0.7406 ETA: 2s - loss: 0 - ETA: 0s - loss: 0.7186 - accuracy: 0.7570 - fbeta_score: 0.\n",
      "Epoch 00045: val_fbeta_score improved from 0.66136 to 0.66208, saving model to best_model1.h5\n",
      "55/55 [==============================] - 12s 209ms/step - loss: 0.7187 - accuracy: 0.7568 - fbeta_score: 0.7406 - val_loss: 1.1390 - val_accuracy: 0.6661 - val_fbeta_score: 0.6621\n",
      "Epoch 46/50\n",
      "55/55 [==============================] - ETA: 0s - loss: 0.7109 - accuracy: 0.7594 - fbeta_score: 0.7452 E - ETA: 1s - loss: 0.7148 \n",
      "Epoch 00046: val_fbeta_score did not improve from 0.66208\n",
      "55/55 [==============================] - 9s 170ms/step - loss: 0.7109 - accuracy: 0.7594 - fbeta_score: 0.7452 - val_loss: 1.1645 - val_accuracy: 0.6556 - val_fbeta_score: 0.6546\n",
      "Epoch 47/50\n",
      "55/55 [==============================] - ETA: 0s - loss: 0.7010 - accuracy: 0.7686 - fbeta_score: 0.7546 ETA: 5s - loss: 0.7196 - accuracy: 0.7598 - fbeta_score: 0. - ETA: 4s - loss: 0.7210 - accuracy: 0.7552 - f - ETA: 0s - loss: 0.7020 - accuracy: 0.7694 - fbeta\n",
      "Epoch 00047: val_fbeta_score did not improve from 0.66208\n",
      "55/55 [==============================] - 9s 170ms/step - loss: 0.7010 - accuracy: 0.7686 - fbeta_score: 0.7546 - val_loss: 1.1795 - val_accuracy: 0.6603 - val_fbeta_score: 0.6612\n",
      "Epoch 48/50\n",
      "55/55 [==============================] - ETA: 0s - loss: 0.6955 - accuracy: 0.7670 - fbeta_score: 0.7533 ETA: 0s - loss: 0.6928 - accuracy: 0.7676 - f\n",
      "Epoch 00048: val_fbeta_score did not improve from 0.66208\n",
      "55/55 [==============================] - 9s 169ms/step - loss: 0.6955 - accuracy: 0.7670 - fbeta_score: 0.7533 - val_loss: 1.1997 - val_accuracy: 0.6535 - val_fbeta_score: 0.6531\n",
      "Epoch 49/50\n",
      "55/55 [==============================] - ETA: 0s - loss: 0.6888 - accuracy: 0.7716 - fbeta_score: 0.7585\n",
      "Epoch 00049: val_fbeta_score improved from 0.66208 to 0.66793, saving model to best_model1.h5\n",
      "55/55 [==============================] - 10s 185ms/step - loss: 0.6888 - accuracy: 0.7716 - fbeta_score: 0.7585 - val_loss: 1.1670 - val_accuracy: 0.6659 - val_fbeta_score: 0.6679\n",
      "Epoch 50/50\n",
      "55/55 [==============================] - ETA: 0s - loss: 0.6963 - accuracy: 0.7698 - fbeta_score: 0.7543\n",
      "Epoch 00050: val_fbeta_score did not improve from 0.66793\n",
      "55/55 [==============================] - 9s 171ms/step - loss: 0.6963 - accuracy: 0.7698 - fbeta_score: 0.7543 - val_loss: 1.1618 - val_accuracy: 0.6663 - val_fbeta_score: 0.6643\n"
     ]
    }
   ],
   "source": [
    "x_train = x_train_sequences\n",
    "x_test  = x_test_sequences\n",
    "\n",
    "model_history1 = model1.fit(x_train, y_train\n",
    "                            , validation_data=(x_test, y_test)\n",
    "                            , epochs=50, batch_size=256, verbose=1\n",
    "                            , callbacks=[tensorboard_callback, es, mc]\n",
    "                           )"
   ]
  },
  {
   "cell_type": "markdown",
   "metadata": {},
   "source": [
    "### Exploring the best model"
   ]
  },
  {
   "cell_type": "markdown",
   "metadata": {},
   "source": [
    "#### Load the best saved model by Model Checkpoint Callback"
   ]
  },
  {
   "cell_type": "code",
   "execution_count": 63,
   "metadata": {},
   "outputs": [
    {
     "name": "stdout",
     "output_type": "stream",
     "text": [
      "439/439 [==============================] - 4s 8ms/step - loss: 0.5048 - accuracy: 0.8569 - fbeta_score: 0.8401\n",
      "147/147 [==============================] - 1s 8ms/step - loss: 1.1670 - accuracy: 0.6659 - fbeta_score: 0.6679\n",
      "train_acc: 0.857, test_acc: 0.666\n",
      "train_fbeta_score: 0.840, test_fbeta_score: 0.668\n"
     ]
    }
   ],
   "source": [
    "best_model1 = load_model('best_model1.h5')\n",
    "# evaluate the model\n",
    "_, train_acc, train_fbeta_score = best_model1.evaluate(x_train, y_train, verbose=1)\n",
    "_, test_acc, test_fbeta_score = best_model1.evaluate(x_test, y_test, verbose=1)\n",
    "print('train_acc: %.3f, test_acc: %.3f' % (train_acc, test_acc))\n",
    "print('train_fbeta_score: %.3f, test_fbeta_score: %.3f' % (train_fbeta_score, test_fbeta_score))"
   ]
  },
  {
   "cell_type": "code",
   "execution_count": 64,
   "metadata": {},
   "outputs": [],
   "source": [
    "#### Load the best saved model by Model Checkpoint Callback"
   ]
  },
  {
   "cell_type": "code",
   "execution_count": 65,
   "metadata": {},
   "outputs": [],
   "source": [
    "y_train_pred = best_model1.predict(x_train)\n",
    "y_test_pred = best_model1.predict(x_test)"
   ]
  },
  {
   "cell_type": "markdown",
   "metadata": {},
   "source": [
    "#### Exploring how predicted probabilities looks with respect"
   ]
  },
  {
   "cell_type": "code",
   "execution_count": 66,
   "metadata": {},
   "outputs": [
    {
     "data": {
      "text/plain": [
       "1.000000    168\n",
       "1.000000     50\n",
       "1.000000     27\n",
       "1.000000     19\n",
       "1.000000     17\n",
       "           ... \n",
       "0.291693      1\n",
       "0.999291      1\n",
       "0.657371      1\n",
       "0.676305      1\n",
       "0.996043      1\n",
       "Length: 13371, dtype: int64"
      ]
     },
     "execution_count": 66,
     "metadata": {},
     "output_type": "execute_result"
    }
   ],
   "source": [
    "pd.Series([proba.max() for proba in y_train_pred]).value_counts()"
   ]
  },
  {
   "cell_type": "code",
   "execution_count": 67,
   "metadata": {},
   "outputs": [
    {
     "data": {
      "image/png": "[encoded data removed]",
      "text/plain": [
       "<Figure size 432x288 with 1 Axes>"
      ]
     },
     "metadata": {
      "needs_background": "light"
     },
     "output_type": "display_data"
    }
   ],
   "source": [
    "ax=pd.Series([proba.max() for proba in y_train_pred]).plot.kde()"
   ]
  },
  {
   "cell_type": "code",
   "execution_count": 68,
   "metadata": {},
   "outputs": [
    {
     "data": {
      "text/plain": [
       "[0.5625104, 0.44464308, 0.64242744, 0.98608065, 0.7255166]"
      ]
     },
     "execution_count": 68,
     "metadata": {},
     "output_type": "execute_result"
    }
   ],
   "source": [
    "[proba.max() for proba in y_train_pred][0:5]"
   ]
  },
  {
   "cell_type": "code",
   "execution_count": 69,
   "metadata": {},
   "outputs": [],
   "source": [
    "#https://www.pythonprogramming.in/suppress-scientific-notation-in-numpy.html\n",
    "np.set_printoptions(suppress=True,\n",
    "                    formatter={'float_kind': '{:f}'.format})"
   ]
  },
  {
   "cell_type": "code",
   "execution_count": 70,
   "metadata": {},
   "outputs": [
    {
     "name": "stdout",
     "output_type": "stream",
     "text": [
      "[0.000000 0.000006 0.000021 0.285069 0.562510 0.000000 0.101171 0.000005\n",
      " 0.000000 0.000000 0.000000 0.000000 0.051219 0.000000 0.000000 0.000000\n",
      " 0.000000 0.000000 0.000000 0.000000]\n",
      "0.9999999\n"
     ]
    }
   ],
   "source": [
    "print(y_train_pred[0])\n",
    "print(y_train_pred[0].sum())"
   ]
  },
  {
   "cell_type": "code",
   "execution_count": 71,
   "metadata": {},
   "outputs": [
    {
     "name": "stdout",
     "output_type": "stream",
     "text": [
      "[0.000008 0.000168 0.000289 0.011299 0.073426 0.000028 0.049017 0.348399\n",
      " 0.014111 0.000035 0.012654 0.000018 0.444643 0.000017 0.045652 0.000005\n",
      " 0.000090 0.000022 0.000071 0.000047]\n",
      "0.99999994\n"
     ]
    }
   ],
   "source": [
    "print(y_train_pred[1])\n",
    "print(y_train_pred[1].sum())"
   ]
  },
  {
   "cell_type": "code",
   "execution_count": 72,
   "metadata": {},
   "outputs": [
    {
     "name": "stdout",
     "output_type": "stream",
     "text": [
      "[0.000000 0.093018 0.642427 0.058902 0.005220 0.197497 0.001442 0.000000\n",
      " 0.000000 0.000000 0.000000 0.001413 0.000079 0.000002 0.000000 0.000000\n",
      " 0.000000 0.000000 0.000000 0.000000]\n",
      "0.9999999\n"
     ]
    }
   ],
   "source": [
    "print(y_train_pred[2])\n",
    "print(y_train_pred[2].sum())"
   ]
  },
  {
   "cell_type": "code",
   "execution_count": 73,
   "metadata": {},
   "outputs": [
    {
     "name": "stdout",
     "output_type": "stream",
     "text": [
      "[0.000000 0.000000 0.000000 0.000000 0.000000 0.000000 0.000113 0.005792\n",
      " 0.007434 0.000099 0.986081 0.000000 0.000009 0.000000 0.000167 0.000000\n",
      " 0.000284 0.000020 0.000000 0.000000]\n",
      "0.9999998\n"
     ]
    }
   ],
   "source": [
    "print(y_train_pred[3])\n",
    "print(y_train_pred[3].sum())"
   ]
  },
  {
   "cell_type": "code",
   "execution_count": 74,
   "metadata": {},
   "outputs": [
    {
     "name": "stdout",
     "output_type": "stream",
     "text": [
      "[0.000000 0.264317 0.009484 0.000437 0.000090 0.725517 0.000001 0.000000\n",
      " 0.000000 0.000000 0.000000 0.000145 0.000005 0.000005 0.000000 0.000000\n",
      " 0.000000 0.000000 0.000000 0.000000]\n",
      "1.0000001\n"
     ]
    }
   ],
   "source": [
    "print(y_train_pred[4])\n",
    "print(y_train_pred[4].sum())"
   ]
  },
  {
   "cell_type": "code",
   "execution_count": 75,
   "metadata": {},
   "outputs": [
    {
     "name": "stdout",
     "output_type": "stream",
     "text": [
      "[0.001132 0.000000 0.000000 0.000000 0.000000 0.000000 0.000000 0.000000\n",
      " 0.000000 0.000436 0.000000 0.000298 0.000000 0.000001 0.000000 0.000016\n",
      " 0.886103 0.000676 0.073061 0.038278]\n",
      "0.99999994\n"
     ]
    }
   ],
   "source": [
    "print(y_train_pred[5])\n",
    "print(y_train_pred[5].sum())"
   ]
  },
  {
   "cell_type": "markdown",
   "metadata": {},
   "source": [
    "#### This is how the predicted class is obtained from probabilities"
   ]
  },
  {
   "cell_type": "code",
   "execution_count": 76,
   "metadata": {},
   "outputs": [],
   "source": [
    "y_train_pred = [[1 if i>=0.5 else 0 for i in i] for i in y_train_pred]\n",
    "y_test_pred  = [[1 if i>=0.5 else 0 for i in i] for i in y_test_pred]"
   ]
  },
  {
   "cell_type": "code",
   "execution_count": 77,
   "metadata": {},
   "outputs": [
    {
     "data": {
      "text/plain": [
       "[[0, 0, 0, 0, 1, 0, 0, 0, 0, 0, 0, 0, 0, 0, 0, 0, 0, 0, 0, 0],\n",
       " [0, 0, 0, 0, 0, 0, 0, 0, 0, 0, 0, 0, 0, 0, 0, 0, 0, 0, 0, 0],\n",
       " [0, 0, 1, 0, 0, 0, 0, 0, 0, 0, 0, 0, 0, 0, 0, 0, 0, 0, 0, 0],\n",
       " [0, 0, 0, 0, 0, 0, 0, 0, 0, 0, 1, 0, 0, 0, 0, 0, 0, 0, 0, 0],\n",
       " [0, 0, 0, 0, 0, 1, 0, 0, 0, 0, 0, 0, 0, 0, 0, 0, 0, 0, 0, 0],\n",
       " [0, 0, 0, 0, 0, 0, 0, 0, 0, 0, 0, 0, 0, 0, 0, 0, 1, 0, 0, 0]]"
      ]
     },
     "execution_count": 77,
     "metadata": {},
     "output_type": "execute_result"
    }
   ],
   "source": [
    "y_train_pred[0:6]"
   ]
  },
  {
   "cell_type": "code",
   "execution_count": 78,
   "metadata": {},
   "outputs": [
    {
     "data": {
      "text/plain": [
       "1    11786\n",
       "0     2238\n",
       "dtype: int64"
      ]
     },
     "execution_count": 78,
     "metadata": {},
     "output_type": "execute_result"
    }
   ],
   "source": [
    "pd.Series([max(class_) for class_ in y_train_pred]).value_counts()"
   ]
  },
  {
   "cell_type": "code",
   "execution_count": 79,
   "metadata": {},
   "outputs": [
    {
     "data": {
      "text/plain": [
       "1    3745\n",
       "0     930\n",
       "dtype: int64"
      ]
     },
     "execution_count": 79,
     "metadata": {},
     "output_type": "execute_result"
    }
   ],
   "source": [
    "pd.Series([max(class_) for class_ in y_test_pred]).value_counts()"
   ]
  },
  {
   "cell_type": "markdown",
   "metadata": {},
   "source": [
    "* For almost 18% of the documents in training set, class cannot be predicted.\n",
    "* For almost 24% of the documents in test set, class cannot be predicted.\n",
    "* Model is bit overfitted but can give acceptable results"
   ]
  },
  {
   "cell_type": "markdown",
   "metadata": {},
   "source": [
    "#### Plot the model1"
   ]
  },
  {
   "cell_type": "code",
   "execution_count": 80,
   "metadata": {},
   "outputs": [
    {
     "data": {
      "image/png": "[encoded data removed]",
      "text/plain": [
       "<IPython.core.display.Image object>"
      ]
     },
     "execution_count": 80,
     "metadata": {},
     "output_type": "execute_result"
    }
   ],
   "source": [
    "#Plot the Model\n",
    "#!pip install pydot\n",
    "#https://www.tensorflow.org/api_docs/python/tf/keras/utils/plot_model\n",
    "dot_img_file = './model_1.png'\n",
    "tf.keras.utils.plot_model(best_model1, to_file=dot_img_file, show_shapes=True)"
   ]
  },
  {
   "cell_type": "markdown",
   "metadata": {},
   "source": [
    "## Observations"
   ]
  },
  {
   "cell_type": "markdown",
   "metadata": {},
   "source": [
    "### Preprocessing\n",
    "* Removed the stemming and lemmatization because GloVe embedding does not have stemmed and lemmatized words"
   ]
  },
  {
   "cell_type": "markdown",
   "metadata": {},
   "source": [
    "### Model 1 \n",
    "#### Behavioral\n",
    "* Do not be in hurry to build model architecture to save the time, it will cost you more time debugging\n",
    "* Do not feel tense and overwhelmed if the model architecture defined by you is not working.\n",
    "* Instead, have cup of coffee or go for one day long drive, feel sensible and continue altering the model architecture.\n",
    "* Try to focus on something which you find more daunting or more easy. There is high chance that issue lies there.\n",
    "* Dont give up because you feel frustrated, tense and less confident.\n",
    "\n",
    "#### Technical\n",
    "* Always print the results to ensure whether its working the way you expect.\n",
    "* I wanted to check word count but, I was checking character count by mistake. Scentence length was later reduced from 2000 to aroung 250 words. By mistake, I was considering 2000 as maximum words in sequence, those are in fact number of characters. This was introducing more number of zeros abd less sequence numbers in the 'number sequences' created from sequences. It was then hampering the neural networks training .\n",
    "* By mistake, I was flattening the already flattened layer. Model was really misbehaving. High accuracy 0.85 and low f1 score 0.05 around. And vice versa when learning rate was altered. Faced the issue of exploding gradients, controled exploding gradients by gradient clipping by option of keras Adam optimizer clipnorm=1.\n",
    "* Model training stopped misbehaving when one of the Flatten later was removed. Just kept onr Flatten layer in the model.\n",
    "* Less kernel size captures more detailed word level features. Larger kernel size captures the global meaning but not the detailed meaning. Less kernel size is used which is 2 since Conv1D, if it was Conv2d then the kernel size could be 2x2. Kernel size was changed from 5 to 2 here.\n",
    "* ReLU activation and 'He Uniform' weight initializer was provided to all Conv1D\n",
    "* Do not create the instance of 'He Uniform' kernel initializer first and do not assign that instance to all Conv1D layers; because, it initializes all Conv1D kernels to same values, hence wont help capture the different aspects of features from the input data\n",
    "* Instead, directly assign to kernel_initializer argument as below.\n",
    "* i1            = Conv1D(8,  2, padding='same', strides = 1, activation='relu', kernel_initializer = tf.keras.initializers.HeUniform())(x)\n",
    "* Writing custom keras metric does not accept normal python variables, it accepts to calculate on top of tensors.\n",
    "* Total words in vocablary of entire training corpus are 86583. In the GloVe vector; the 34781 numbers of words not found, zero value used for all dimensions in the embedding metrics.\n",
    "* Use the activation function ReLu with He initializer. And try to keep default learning rate 0.001 for Adam optimizer, adam in most of the cases works better with that default learning rate\n",
    "* For almost 18% of the documents in training set, class cannot be predicted.\n",
    "* For almost 24% of the documents in test set, class cannot be predicted.\n",
    "* Model is bit overfitted but can give acceptable results\n",
    "* train_acc: 0.857, test_acc: 0.666\n",
    "* train_fbeta_score: 0.840, test_fbeta_score: 0.668"
   ]
  },
  {
   "cell_type": "markdown",
   "metadata": {},
   "source": [
    "#### Tensorboard (Red is train and blue is test)"
   ]
  },
  {
   "cell_type": "code",
   "execution_count": 91,
   "metadata": {},
   "outputs": [],
   "source": [
    "from IPython.display import Image"
   ]
  },
  {
   "cell_type": "code",
   "execution_count": 92,
   "metadata": {},
   "outputs": [
    {
     "data": {
      "image/png": "[encoded data removed]",
      "text/plain": [
       "<IPython.core.display.Image object>"
      ]
     },
     "execution_count": 92,
     "metadata": {},
     "output_type": "execute_result"
    }
   ],
   "source": [
    "Image(\"TSBoard_Scalars1.png\")"
   ]
  },
  {
   "cell_type": "code",
   "execution_count": 93,
   "metadata": {},
   "outputs": [
    {
     "data": {
      "image/png": "[encoded data removed]",
      "text/plain": [
       "<IPython.core.display.Image object>"
      ]
     },
     "execution_count": 93,
     "metadata": {},
     "output_type": "execute_result"
    }
   ],
   "source": [
    "Image(\"TSBoard_Scalars2.png\")"
   ]
  },
  {
   "cell_type": "code",
   "execution_count": 94,
   "metadata": {},
   "outputs": [
    {
     "data": {
      "image/png": "[encoded data removed]",
      "text/plain": [
       "<IPython.core.display.Image object>"
      ]
     },
     "execution_count": 94,
     "metadata": {},
     "output_type": "execute_result"
    }
   ],
   "source": [
    "Image(\"TSBoard_Scalars3.png\")"
   ]
  }
 ],
 "metadata": {
  "kernelspec": {
   "display_name": "Python 3 (ipykernel)",
   "language": "python",
   "name": "python3"
  },
  "language_info": {
   "codemirror_mode": {
    "name": "ipython",
    "version": 3
   },
   "file_extension": ".py",
   "mimetype": "text/x-python",
   "name": "python",
   "nbconvert_exporter": "python",
   "pygments_lexer": "ipython3",
   "version": "3.8.12"
  }
 },
 "nbformat": 4,
 "nbformat_minor": 4
}
