{
 "cells": [
  {
   "cell_type": "markdown",
   "metadata": {},
   "source": [
    "# Document Classification with CNN [Part 3] - Model Building"
   ]
  },
  {
   "cell_type": "markdown",
   "metadata": {},
   "source": [
    "* Solved By: Pradip Dharam\n",
    "* Objective: Preprocess docs, train multiple ConvNets to classify docs with achieve upto 70% accuracy etc.\n",
    "* Part 1 [Another Notebook]: Preprocessing of all 18828 files. Features preprocessed_email, preprocessed_subjects, preprocessed_texts to be extracted.\n",
    "* Part 2 [Another Notebook]: Multiple ConvNets models to be trained.\n",
    "* Part 3 [Covered]: Multiple ConvNets models to be trained. Another architecture than previous."
   ]
  },
  {
   "cell_type": "code",
   "execution_count": 1,
   "metadata": {},
   "outputs": [
    {
     "name": "stdout",
     "output_type": "stream",
     "text": [
      "Num GPUs Available:  1\n",
      "2.7.0\n"
     ]
    }
   ],
   "source": [
    "import tensorflow as tf\n",
    "print(\"Num GPUs Available: \", len(tf.config.list_physical_devices('GPU')))\n",
    "print(tf. __version__) "
   ]
  },
  {
   "cell_type": "code",
   "execution_count": 2,
   "metadata": {},
   "outputs": [],
   "source": [
    "import pandas as pd\n",
    "import numpy as np\n",
    "from tqdm import tqdm\n",
    "from sklearn.model_selection import StratifiedShuffleSplit\n",
    "from sklearn.feature_extraction.text import TfidfVectorizer\n",
    "from collections import Counter\n",
    "import matplotlib.pyplot as plt\n",
    "\n",
    "import matplotlib\n",
    "import tkinter\n",
    "#matplotlib.use('TkAgg')\n",
    "#matplotlib.use('Agg')\n",
    "#import probscale\n",
    "import seaborn as sns"
   ]
  },
  {
   "cell_type": "code",
   "execution_count": 3,
   "metadata": {},
   "outputs": [],
   "source": [
    "from tensorflow import keras \n",
    "from tensorflow.keras import Sequential, Model"
   ]
  },
  {
   "cell_type": "code",
   "execution_count": 4,
   "metadata": {},
   "outputs": [],
   "source": [
    "import tensorflow.compat.v2 as tf\n",
    "#from keras.preprocessing.text import Tokenizer\n",
    "#from keras.preprocessing.sequence import pad_sequences\n",
    "\n",
    "from tensorflow.keras.layers import Dense, Input, Flatten, Embedding, LSTM \n",
    "from tensorflow.keras.layers import concatenate, Dropout, Conv1D, Conv2D, MaxPooling2D\n",
    "from tensorflow.keras.layers import MaxPool1D\n",
    "from tensorflow.python.keras.callbacks import TensorBoard, EarlyStopping, ModelCheckpoint\n",
    "from tensorflow.keras.models import load_model\n",
    "\n",
    "import os\n",
    "\n",
    "from tensorflow.keras.models import Model\n",
    "from tensorflow.keras.layers import Conv2D, MaxPool2D,  \\\n",
    "    Dropout, Dense, Input, concatenate,      \\\n",
    "    GlobalAveragePooling2D, AveragePooling2D,\\\n",
    "    Flatten\n",
    "\n",
    "import tensorflow_addons as tfa\n",
    "\n",
    "import tensorflow as tf\n",
    "import datetime\n",
    "import time as time"
   ]
  },
  {
   "cell_type": "code",
   "execution_count": 5,
   "metadata": {},
   "outputs": [],
   "source": [
    "#!pip install tensorflow-addons"
   ]
  },
  {
   "cell_type": "code",
   "execution_count": 6,
   "metadata": {},
   "outputs": [],
   "source": [
    "#\"UserWarning: Matplotlib is currently using agg, which is a non-GUI backend, so cannot show the figure.\"\n",
    "#!pip install pyqt5"
   ]
  },
  {
   "cell_type": "markdown",
   "metadata": {},
   "source": [
    "## Train Test Splits - Stratified"
   ]
  },
  {
   "cell_type": "code",
   "execution_count": 7,
   "metadata": {},
   "outputs": [],
   "source": [
    "df = pd.read_excel(\"Preprocessed_Documents_60778.xlsx\")"
   ]
  },
  {
   "cell_type": "code",
   "execution_count": 8,
   "metadata": {},
   "outputs": [],
   "source": [
    "df['combined'] = df.preprocessed_text + ' ' + df.preprocessed_subject + ' ' + df.preprocessed_emails"
   ]
  },
  {
   "cell_type": "code",
   "execution_count": 9,
   "metadata": {},
   "outputs": [],
   "source": [
    "df.drop(['Unnamed: 0', 'document_name', 'text', 'preprocessed_text',\n",
    "       'preprocessed_subject', 'preprocessed_emails'], axis=1, inplace=True)"
   ]
  },
  {
   "cell_type": "code",
   "execution_count": 10,
   "metadata": {},
   "outputs": [
    {
     "data": {
      "text/plain": [
       "Index(['class', 'combined'], dtype='object')"
      ]
     },
     "execution_count": 10,
     "metadata": {},
     "output_type": "execute_result"
    }
   ],
   "source": [
    "df.columns"
   ]
  },
  {
   "cell_type": "code",
   "execution_count": 11,
   "metadata": {},
   "outputs": [
    {
     "data": {
      "text/plain": [
       "0"
      ]
     },
     "execution_count": 11,
     "metadata": {},
     "output_type": "execute_result"
    }
   ],
   "source": [
    "df['class'].isna().sum()"
   ]
  },
  {
   "cell_type": "code",
   "execution_count": 12,
   "metadata": {},
   "outputs": [
    {
     "data": {
      "text/plain": [
       "class         0\n",
       "combined    129\n",
       "dtype: int64"
      ]
     },
     "execution_count": 12,
     "metadata": {},
     "output_type": "execute_result"
    }
   ],
   "source": [
    "df.isna().sum()"
   ]
  },
  {
   "cell_type": "code",
   "execution_count": 13,
   "metadata": {},
   "outputs": [
    {
     "data": {
      "text/plain": [
       "(18828, 2)"
      ]
     },
     "execution_count": 13,
     "metadata": {},
     "output_type": "execute_result"
    }
   ],
   "source": [
    "df.shape"
   ]
  },
  {
   "cell_type": "code",
   "execution_count": 14,
   "metadata": {},
   "outputs": [
    {
     "data": {
      "text/html": [
       "<div>\n",
       "<style scoped>\n",
       "    .dataframe tbody tr th:only-of-type {\n",
       "        vertical-align: middle;\n",
       "    }\n",
       "\n",
       "    .dataframe tbody tr th {\n",
       "        vertical-align: top;\n",
       "    }\n",
       "\n",
       "    .dataframe thead th {\n",
       "        text-align: right;\n",
       "    }\n",
       "</style>\n",
       "<table border=\"1\" class=\"dataframe\">\n",
       "  <thead>\n",
       "    <tr style=\"text-align: right;\">\n",
       "      <th></th>\n",
       "      <th>combined</th>\n",
       "      <th>class</th>\n",
       "    </tr>\n",
       "  </thead>\n",
       "  <tbody>\n",
       "    <tr>\n",
       "      <th>0</th>\n",
       "      <td>atheism resources resources december atheist r...</td>\n",
       "      <td>alt.atheism</td>\n",
       "    </tr>\n",
       "    <tr>\n",
       "      <th>1</th>\n",
       "      <td>atheism introduction introduction april begin ...</td>\n",
       "      <td>alt.atheism</td>\n",
       "    </tr>\n",
       "    <tr>\n",
       "      <th>2</th>\n",
       "      <td>article well has quite different not necessari...</td>\n",
       "      <td>alt.atheism</td>\n",
       "    </tr>\n",
       "    <tr>\n",
       "      <th>3</th>\n",
       "      <td>recently ras have been ordered and none have r...</td>\n",
       "      <td>alt.atheism</td>\n",
       "    </tr>\n",
       "    <tr>\n",
       "      <th>4</th>\n",
       "      <td>article however hate economic terrorism and po...</td>\n",
       "      <td>alt.atheism</td>\n",
       "    </tr>\n",
       "    <tr>\n",
       "      <th>...</th>\n",
       "      <td>...</td>\n",
       "      <td>...</td>\n",
       "    </tr>\n",
       "    <tr>\n",
       "      <th>18694</th>\n",
       "      <td>was not sure this was the right newsgroup post...</td>\n",
       "      <td>talk.religion.misc</td>\n",
       "    </tr>\n",
       "    <tr>\n",
       "      <th>18695</th>\n",
       "      <td>article article probably not but then not pack...</td>\n",
       "      <td>talk.religion.misc</td>\n",
       "    </tr>\n",
       "    <tr>\n",
       "      <th>18696</th>\n",
       "      <td>article you would like understand better the s...</td>\n",
       "      <td>talk.religion.misc</td>\n",
       "    </tr>\n",
       "    <tr>\n",
       "      <th>18697</th>\n",
       "      <td>article the danger anti cult groups that while...</td>\n",
       "      <td>talk.religion.misc</td>\n",
       "    </tr>\n",
       "    <tr>\n",
       "      <th>18698</th>\n",
       "      <td>article mand now mdeep thoughts mby mif you pa...</td>\n",
       "      <td>talk.religion.misc</td>\n",
       "    </tr>\n",
       "  </tbody>\n",
       "</table>\n",
       "<p>18699 rows × 2 columns</p>\n",
       "</div>"
      ],
      "text/plain": [
       "                                                combined               class\n",
       "0      atheism resources resources december atheist r...         alt.atheism\n",
       "1      atheism introduction introduction april begin ...         alt.atheism\n",
       "2      article well has quite different not necessari...         alt.atheism\n",
       "3      recently ras have been ordered and none have r...         alt.atheism\n",
       "4      article however hate economic terrorism and po...         alt.atheism\n",
       "...                                                  ...                 ...\n",
       "18694  was not sure this was the right newsgroup post...  talk.religion.misc\n",
       "18695  article article probably not but then not pack...  talk.religion.misc\n",
       "18696  article you would like understand better the s...  talk.religion.misc\n",
       "18697  article the danger anti cult groups that while...  talk.religion.misc\n",
       "18698  article mand now mdeep thoughts mby mif you pa...  talk.religion.misc\n",
       "\n",
       "[18699 rows x 2 columns]"
      ]
     },
     "execution_count": 14,
     "metadata": {},
     "output_type": "execute_result"
    }
   ],
   "source": [
    "df = df[pd.notnull(df['combined'])].reset_index().filter(['combined', 'class'])\n",
    "df"
   ]
  },
  {
   "cell_type": "code",
   "execution_count": 15,
   "metadata": {},
   "outputs": [
    {
     "data": {
      "text/plain": [
       "(18699, 2)"
      ]
     },
     "execution_count": 15,
     "metadata": {},
     "output_type": "execute_result"
    }
   ],
   "source": [
    "df.shape"
   ]
  },
  {
   "cell_type": "code",
   "execution_count": 16,
   "metadata": {},
   "outputs": [
    {
     "data": {
      "text/plain": [
       "combined    0\n",
       "class       0\n",
       "dtype: int64"
      ]
     },
     "execution_count": 16,
     "metadata": {},
     "output_type": "execute_result"
    }
   ],
   "source": [
    "df.isna().sum()"
   ]
  },
  {
   "cell_type": "code",
   "execution_count": 17,
   "metadata": {},
   "outputs": [
    {
     "name": "stdout",
     "output_type": "stream",
     "text": [
      "(18699,)\n",
      "(18699,) alt.atheism\n"
     ]
    }
   ],
   "source": [
    "X = df['combined']\n",
    "y = df['class']\n",
    "print(X.shape)\n",
    "print(y.shape, y[0])"
   ]
  },
  {
   "cell_type": "code",
   "execution_count": 18,
   "metadata": {},
   "outputs": [
    {
     "data": {
      "text/plain": [
       "0"
      ]
     },
     "execution_count": 18,
     "metadata": {},
     "output_type": "execute_result"
    }
   ],
   "source": [
    "X.isna().sum()"
   ]
  },
  {
   "cell_type": "code",
   "execution_count": 19,
   "metadata": {},
   "outputs": [
    {
     "data": {
      "text/plain": [
       "pandas.core.series.Series"
      ]
     },
     "execution_count": 19,
     "metadata": {},
     "output_type": "execute_result"
    }
   ],
   "source": [
    "type(X)"
   ]
  },
  {
   "cell_type": "code",
   "execution_count": 20,
   "metadata": {},
   "outputs": [
    {
     "name": "stdout",
     "output_type": "stream",
     "text": [
      "StratifiedShuffleSplit(n_splits=2, random_state=0, test_size=0.25,\n",
      "            train_size=None)\n",
      "train_index: [15109 10406  9947 ... 10668  3767 16491] test_index: [  138  2914 17633 ... 14323 12225  8836]\n",
      "train_index: [ 4222  6505  2178 ... 12066 13209  7769] test_index: [18612   968   514 ...  1585 18418  3229]\n"
     ]
    }
   ],
   "source": [
    "#https://scikit-learn.org/stable/modules/generated/sklearn.model_selection.StratifiedShuffleSplit.html\n",
    "sss = StratifiedShuffleSplit(n_splits=2, test_size=0.25, random_state=0)\n",
    "sss.get_n_splits(X, y)\n",
    "\n",
    "print(sss)\n",
    "\n",
    "for train_index, test_index in sss.split(X, y):\n",
    "    print(\"train_index:\", train_index, \"test_index:\", test_index)\n",
    "    X_train, X_test = X[train_index], X[test_index]\n",
    "    Y_train, Y_test = y[train_index], y[test_index]"
   ]
  },
  {
   "cell_type": "code",
   "execution_count": 21,
   "metadata": {},
   "outputs": [
    {
     "name": "stdout",
     "output_type": "stream",
     "text": [
      "(14024,) (4675,)\n",
      "(14024,) (4675,)\n"
     ]
    }
   ],
   "source": [
    "print(X_train.shape, X_test.shape)\n",
    "print(Y_train.shape, Y_test.shape)"
   ]
  },
  {
   "cell_type": "markdown",
   "metadata": {},
   "source": [
    "### Plotting class distributions"
   ]
  },
  {
   "cell_type": "code",
   "execution_count": 22,
   "metadata": {},
   "outputs": [],
   "source": [
    "def plot_class_counts_histogrem(y_train):\n",
    "    dict_class_counts = dict(Counter(y_train))\n",
    "    class_document_counts = pd.Series(dict_class_counts)\n",
    "    #https://stackoverflow.com/questions/29525120/pandas-creating-a-histogram-from-string-counts\n",
    "    plt.bar(range(len(class_document_counts)), \\\n",
    "            class_document_counts.values, align='center')\n",
    "    plt.xticks(range(len(class_document_counts)), \\\n",
    "               class_document_counts.index.values, size='large', rotation='vertical')\n",
    "    plt.show()"
   ]
  },
  {
   "cell_type": "markdown",
   "metadata": {},
   "source": [
    "#### Train Set"
   ]
  },
  {
   "cell_type": "code",
   "execution_count": 23,
   "metadata": {},
   "outputs": [
    {
     "data": {
      "image/png": "[encoded data removed]",
      "text/plain": [
       "<Figure size 432x288 with 1 Axes>"
      ]
     },
     "metadata": {
      "needs_background": "light"
     },
     "output_type": "display_data"
    }
   ],
   "source": [
    "plot_class_counts_histogrem(Y_train)"
   ]
  },
  {
   "cell_type": "markdown",
   "metadata": {},
   "source": [
    "#### Test Set"
   ]
  },
  {
   "cell_type": "code",
   "execution_count": 24,
   "metadata": {},
   "outputs": [
    {
     "data": {
      "image/png": "[encoded data removed]",
      "text/plain": [
       "<Figure size 432x288 with 1 Axes>"
      ]
     },
     "metadata": {
      "needs_background": "light"
     },
     "output_type": "display_data"
    }
   ],
   "source": [
    "plot_class_counts_histogrem(Y_test)"
   ]
  },
  {
   "cell_type": "markdown",
   "metadata": {},
   "source": [
    "Distribution of classes across train and test sets looks similar"
   ]
  },
  {
   "cell_type": "markdown",
   "metadata": {},
   "source": [
    "## Analyzing prepeocessed text\n",
    "We should check X_train only to avoid the data leakage. X_train here in concatenation of features preprocessed_text, df.preprocessed_subject and preprocessed_emails."
   ]
  },
  {
   "cell_type": "markdown",
   "metadata": {},
   "source": [
    "### Texts sequence lengths analysis"
   ]
  },
  {
   "cell_type": "code",
   "execution_count": 25,
   "metadata": {},
   "outputs": [
    {
     "data": {
      "text/plain": [
       "'atheism resources resources december atheist resources addresses atheist organizations usa freedom f'"
      ]
     },
     "execution_count": 25,
     "metadata": {},
     "output_type": "execute_result"
    }
   ],
   "source": [
    "X_train[0][0:100]"
   ]
  },
  {
   "cell_type": "code",
   "execution_count": 26,
   "metadata": {},
   "outputs": [
    {
     "data": {
      "text/plain": [
       "8139"
      ]
     },
     "execution_count": 26,
     "metadata": {},
     "output_type": "execute_result"
    }
   ],
   "source": [
    "len(X_train[0]) #Number of character in X_train[0]"
   ]
  },
  {
   "cell_type": "code",
   "execution_count": 27,
   "metadata": {},
   "outputs": [
    {
     "data": {
      "text/plain": [
       "0         418\n",
       "1         225\n",
       "2         290\n",
       "3         112\n",
       "4         404\n",
       "         ... \n",
       "14019     391\n",
       "14020    1597\n",
       "14021    1287\n",
       "14022     308\n",
       "14023    1239\n",
       "Length: 14024, dtype: int64"
      ]
     },
     "execution_count": 27,
     "metadata": {},
     "output_type": "execute_result"
    }
   ],
   "source": [
    "#Number of words in each sequence\n",
    "#text_lengths = pd.Series([len(sequence.split()) for sequence in X_train])\n",
    "\n",
    "#Number of characters in each sequence\n",
    "text_lengths = pd.Series([len(sequence) for sequence in X_train])\n",
    "text_lengths"
   ]
  },
  {
   "cell_type": "code",
   "execution_count": null,
   "metadata": {},
   "outputs": [],
   "source": []
  },
  {
   "cell_type": "code",
   "execution_count": 28,
   "metadata": {},
   "outputs": [
    {
     "data": {
      "image/png": "[encoded data removed]",
      "text/plain": [
       "<Figure size 1080x360 with 1 Axes>"
      ]
     },
     "metadata": {
      "needs_background": "light"
     },
     "output_type": "display_data"
    }
   ],
   "source": [
    "def plot_percentiles(numbers):\n",
    "    #https://stackoverflow.com/questions/25577352/plotting-cdf-of-a-pandas-series-in-python\n",
    "    fig = plt.figure(figsize = (15,5))\n",
    "    ax = fig.gca()\n",
    "    numbers.hist(ax = ax, cumulative=True, density=1, bins=100)\n",
    "\n",
    "plot_percentiles(text_lengths)"
   ]
  },
  {
   "cell_type": "code",
   "execution_count": 29,
   "metadata": {},
   "outputs": [
    {
     "data": {
      "text/plain": [
       "1693.5499999999993"
      ]
     },
     "execution_count": 29,
     "metadata": {},
     "output_type": "execute_result"
    }
   ],
   "source": [
    "text_lengths.quantile(q=0.85)"
   ]
  },
  {
   "cell_type": "code",
   "execution_count": 30,
   "metadata": {},
   "outputs": [
    {
     "data": {
      "text/plain": [
       "2154.7000000000007"
      ]
     },
     "execution_count": 30,
     "metadata": {},
     "output_type": "execute_result"
    }
   ],
   "source": [
    "text_lengths.quantile(q=.9)"
   ]
  },
  {
   "cell_type": "code",
   "execution_count": 31,
   "metadata": {},
   "outputs": [
    {
     "data": {
      "text/plain": [
       "3336.0"
      ]
     },
     "execution_count": 31,
     "metadata": {},
     "output_type": "execute_result"
    }
   ],
   "source": [
    "text_lengths.quantile(q=.95)"
   ]
  },
  {
   "cell_type": "code",
   "execution_count": 32,
   "metadata": {},
   "outputs": [
    {
     "data": {
      "text/plain": [
       "8852.640000000014"
      ]
     },
     "execution_count": 32,
     "metadata": {},
     "output_type": "execute_result"
    }
   ],
   "source": [
    "text_lengths.quantile(q=.99)"
   ]
  },
  {
   "cell_type": "markdown",
   "metadata": {},
   "source": [
    "85% of the records or sequences are below the length 2154"
   ]
  },
  {
   "cell_type": "code",
   "execution_count": 33,
   "metadata": {},
   "outputs": [],
   "source": [
    "max_sequence_length = 2154"
   ]
  },
  {
   "cell_type": "markdown",
   "metadata": {},
   "source": [
    "#### Function to convert scentense to chars sequence"
   ]
  },
  {
   "cell_type": "code",
   "execution_count": 34,
   "metadata": {},
   "outputs": [
    {
     "data": {
      "text/plain": [
       "'h a v e h a d r u n n i n g w i t h m h z o s c f o r'"
      ]
     },
     "execution_count": 34,
     "metadata": {},
     "output_type": "execute_result"
    }
   ],
   "source": [
    "def convert_scentense_to_chars(s):\n",
    "    s = \"\".join(s.split())\n",
    "    s = list(s)\n",
    "    s = ' '.join(s)\n",
    "    return s\n",
    "\n",
    "s = 'have had running with mhz osc for'\n",
    "convert_scentense_to_chars(s)"
   ]
  },
  {
   "cell_type": "code",
   "execution_count": 35,
   "metadata": {},
   "outputs": [
    {
     "data": {
      "text/plain": [
       "'how long does the motto have stay around before becomes the default where the cutoff point not know where the exact cutoff but least after few years and surely after years why does the notion default not take into account changes population makeup specifically which changes are you talking about are you arguing that the motto interpreted offensive larger portion the population now than years ago keith Pompous ass cco caltech edu solntze wpd sgi'"
      ]
     },
     "execution_count": 35,
     "metadata": {},
     "output_type": "execute_result"
    }
   ],
   "source": [
    "X_train[10]"
   ]
  },
  {
   "cell_type": "code",
   "execution_count": 36,
   "metadata": {},
   "outputs": [
    {
     "data": {
      "text/plain": [
       "'h o w l o n g d o e s t h e m o t t o h a v e s t a y a r o u n d b e f o r e b e c o m e s t h e d e f a u l t w h e r e t h e c u t o f f p o i n t n o t k n o w w h e r e t h e e x a c t c u t o f f b u t l e a s t a f t e r f e w y e a r s a n d s u r e l y a f t e r y e a r s w h y d o e s t h e n o t i o n d e f a u l t n o t t a k e i n t o a c c o u n t c h a n g e s p o p u l a t i o n m a k e u p s p e c i f i c a l l y w h i c h c h a n g e s a r e y o u t a l k i n g a b o u t a r e y o u a r g u i n g t h a t t h e m o t t o i n t e r p r e t e d o f f e n s i v e l a r g e r p o r t i o n t h e p o p u l a t i o n n o w t h a n y e a r s a g o k e i t h P o m p o u s a s s c c o c a l t e c h e d u s o l n t z e w p d s g i'"
      ]
     },
     "execution_count": 36,
     "metadata": {},
     "output_type": "execute_result"
    }
   ],
   "source": [
    "convert_scentense_to_chars(X_train[10])"
   ]
  },
  {
   "cell_type": "markdown",
   "metadata": {},
   "source": [
    "#### Converting entire X_train and X_test to sequences of characters"
   ]
  },
  {
   "cell_type": "code",
   "execution_count": 37,
   "metadata": {},
   "outputs": [],
   "source": [
    "X_train = [convert_scentense_to_chars(scentense) for scentense in X_train]\n",
    "X_test  = [convert_scentense_to_chars(scentense) for scentense in X_test]"
   ]
  },
  {
   "cell_type": "code",
   "execution_count": 38,
   "metadata": {},
   "outputs": [
    {
     "data": {
      "text/plain": [
       "['h a v e h a d r u n n i n g w i t h m h z o s c f o r f e w m o n t h s h a v e n u m b e r s c s i d e v i c e s c o n n e c t e d q u a n t u m m a x t o r t o s h i b a m k f v i a e m u l e x a d a p t e r p i o n e e r d r m a n d h a v e h a d t r o u b l e t h i s b e i n g d o n e w i t h t h e m o t h e r b o a r d s c s i i n t e r f a c e t h i s p o s s i b l e t h e n b i t e x p e r i m e n t i n g w i t h j u s t p l a i n o l d c l o c k o s c i l l a t o r s m a y o r d e r g i v e s o m e m o r e d e t a i l s p l e a s e t h e m a d c l o c k c h i p p e r s e a t t l e Q 7 0 0 a t 3 4 5 M H z i t s f i n e c a r s o n w a s h i n g t o n e d u w a s h i n g t o n e d u']"
      ]
     },
     "execution_count": 38,
     "metadata": {},
     "output_type": "execute_result"
    }
   ],
   "source": [
    "X_train[0:1]"
   ]
  },
  {
   "cell_type": "markdown",
   "metadata": {},
   "source": [
    "### Checking the counts of each unique word in the combined prepeocessed text"
   ]
  },
  {
   "cell_type": "code",
   "execution_count": 39,
   "metadata": {},
   "outputs": [],
   "source": [
    "scalar = TfidfVectorizer(ngram_range=(1, 1), use_idf=True, \n",
    "                         token_pattern='(?u)\\\\b\\\\w+\\\\b') #in scikit-learn\n",
    "\n",
    "#https://stackoverflow.com/questions/48984071/scikit-tf-idf-empty-vocabulary\n",
    "#token_pattern='(?u)\\\\b\\\\w+\\\\b'\n",
    "#This is to solve error \"TF-IDF empty vocabulary\" since TfidfVectorizer does not accept short words\n",
    "#Here one word is one character itself.\n",
    "\n",
    "tfidf  = scalar.fit_transform(X_train)"
   ]
  },
  {
   "cell_type": "code",
   "execution_count": 40,
   "metadata": {},
   "outputs": [
    {
     "name": "stderr",
     "output_type": "stream",
     "text": [
      "C:\\ProgramData\\Anaconda3\\lib\\site-packages\\sklearn\\utils\\deprecation.py:87: FutureWarning: Function get_feature_names is deprecated; get_feature_names is deprecated in 1.0 and will be removed in 1.2. Please use get_feature_names_out instead.\n",
      "  warnings.warn(msg, category=FutureWarning)\n"
     ]
    }
   ],
   "source": [
    "vocab_data = scalar.get_feature_names()"
   ]
  },
  {
   "cell_type": "code",
   "execution_count": 41,
   "metadata": {},
   "outputs": [
    {
     "name": "stdout",
     "output_type": "stream",
     "text": [
      "['0', '1', '2', '3', '4', '5', '6', '7', '8', '9', '_', 'a', 'b', 'c', 'd', 'e', 'f', 'g', 'h', 'i', 'j', 'k', 'l', 'm', 'n', 'o', 'p', 'q', 'r', 's', 't', 'u', 'v', 'w', 'x', 'y', 'z', 'ï']\n"
     ]
    }
   ],
   "source": [
    "print(vocab_data)"
   ]
  },
  {
   "cell_type": "code",
   "execution_count": 42,
   "metadata": {},
   "outputs": [
    {
     "data": {
      "text/plain": [
       "38"
      ]
     },
     "execution_count": 42,
     "metadata": {},
     "output_type": "execute_result"
    }
   ],
   "source": [
    "len(vocab_data)"
   ]
  },
  {
   "cell_type": "markdown",
   "metadata": {},
   "source": [
    "### Creating zero padded sequences of numbers"
   ]
  },
  {
   "cell_type": "markdown",
   "metadata": {},
   "source": [
    "I am going to incorporate similar vectorize_layer while creating actual model"
   ]
  },
  {
   "cell_type": "markdown",
   "metadata": {},
   "source": [
    "This is how the vectorize_layer works!"
   ]
  },
  {
   "cell_type": "code",
   "execution_count": 43,
   "metadata": {},
   "outputs": [],
   "source": [
    "#vocab_data_sample = [\"foo\", \"bar\", \"baz\"]\n",
    "#list(vocab_data_sample)"
   ]
  },
  {
   "cell_type": "code",
   "execution_count": 44,
   "metadata": {},
   "outputs": [
    {
     "data": {
      "text/plain": [
       "array([[2, 3, 3, 1, 1],\n",
       "       [1, 1, 1, 6, 4],\n",
       "       [2, 3, 3, 1, 1]], dtype=int64)"
      ]
     },
     "execution_count": 44,
     "metadata": {},
     "output_type": "execute_result"
    }
   ],
   "source": [
    "#Keras documentation itself\n",
    "#https://keras.io/api/layers/preprocessing_layers/text/text_vectorization/\n",
    "#This is not the exact copied code, its modified after.\n",
    "\n",
    "vocab_data_sample = ['f', 'o','a','r', 'b','z']\n",
    "max_features = len(vocab_data_sample) + 2 # Maximum vocab size.\n",
    "max_len = 5  # Sequence length to pad the outputs to.\n",
    "\n",
    "# Create the layer, passing the vocab directly. You can also pass the\n",
    "# vocabulary arg a path to a file containing one vocabulary word per\n",
    "# line.\n",
    "vectorize_layer = tf.keras.layers.TextVectorization(\n",
    "                    max_tokens=max_features,\n",
    "                    output_mode='int',\n",
    "                    output_sequence_length=max_len,\n",
    "                    vocabulary=vocab_data_sample)\n",
    "\n",
    "\n",
    "\n",
    " # Because we've passed the vocabulary directly, we don't need to adapt\n",
    " # the layer - the vocabulary is already set. The vocabulary contains the\n",
    " # padding token ('') and OOV token ('[UNK]') as well as the passed tokens.\n",
    "vectorize_layer.get_vocabulary()\n",
    "#['', '[UNK]', 'earth', 'wind', 'and', 'fire']\n",
    "\n",
    "model = tf.keras.models.Sequential()\n",
    "model.add(tf.keras.Input(shape=(1,), dtype=tf.string))\n",
    "model.add(vectorize_layer)\n",
    "input_data = [[\"f o o q u x b a r h e l l o\"], [\"q u x b a z\"], [\"f o o q u x b a r h e l l o q u x b a z\"]]\n",
    "model.predict(input_data)"
   ]
  },
  {
   "cell_type": "markdown",
   "metadata": {},
   "source": [
    "Lets check on actual dataset"
   ]
  },
  {
   "cell_type": "code",
   "execution_count": 45,
   "metadata": {},
   "outputs": [],
   "source": [
    "#print(vocab_data)"
   ]
  },
  {
   "cell_type": "code",
   "execution_count": 46,
   "metadata": {},
   "outputs": [
    {
     "name": "stdout",
     "output_type": "stream",
     "text": [
      "['h a v e h a d r u n n i n g w i t h m h z o s c f o r f e w m o n t h s h a v e n u m b e r s c s i d e v i c e s c o n n e c t e d q u a n t u m m a x t o r t o s h i b a m k f v i a e m u l e x a d a p t e r p i o n e e r d r m a n d h a v e h a d t r o u b l e t h i s b e i n g d o n e w i t h t h e m o t h e r b o a r d s c s i i n t e r f a c e t h i s p o s s i b l e t h e n b i t e x p e r i m e n t i n g w i t h j u s t p l a i n o l d c l o c k o s c i l l a t o r s m a y o r d e r g i v e s o m e m o r e d e t a i l s p l e a s e t h e m a d c l o c k c h i p p e r s e a t t l e Q 7 0 0 a t 3 4 5 M H z i t s f i n e c a r s o n w a s h i n g t o n e d u w a s h i n g t o n e d u', 'l o o k i n g f o r c o p y l a s t f i l m a n y o n e h a s c o p y t h i s s t i n k e r p l e a s e m a i l a l s o a n y o n e k n o w s b e t t e r p l a c e p o s t t h i s p l e a s e t e l l y o u a t e t h e o n l y t h i n g e v e r l o v e d P l a n 9 F r o m O u t e r S p a c e W A N T E D c u n i x b c o l u m b i a e d u c u n i x b c o l u m b i a e d u', 'a r t i c l e h e y d o e s a n y o n e k n o w f t p s i t e w h e r e c a n g e t p k u n z i p f r o m t r i e d u s i n g a r c h i e w i t h s u c h l u c k t h i s v e r s i o n p k u n z i p s u p p o s e c o r r e c t s o m e p r o m b l e m s w h e n u s i n g p k u n z i p w i t h i n w i n d o w s t h a n k s a d v a n c e y o u c a n g e t f r o m f t p c i c a i n d i a n a e d u P K U N Z I P 2 0 4 g d e k a l b P e a c h N e t E D U d e k a l b P e a c h N e t E D U', 'f o r u p d a t e d p l a y o f f u p d a t e s m a i l w i t h t h e s u b j e c t s t a t s N H L P l a y o f f S t a t s S c o r e s s c o t t s k i d m o r e e d u s k i d m o r e e d u', 't r y i n g i m p l e m e n t p o i n t e r f e a t u r e x l i b h a v e m u l t i p l e w i n d o w s a n d a l l c a n t a k e i n p u t a n d s h o w o u t p u t s i m u l t a n e o u s l y a l l o t h e r d i s p l a y s w a n t i m p l e m e n t p o i n t e r f e a t u r e w o u l d l i k e g e t t h e p o i n t e r c o m e a l l w i n d o w s o n c e c h o o s e p o i n t e r t h e m e n u a n d e v e r y o n e s h o u l d a b l e s e e c a n y o u g i v e s o m e h i n t s h o w s h o u l d p r o c e e d r e p l i e s w i l l g r e a t l y a p p r e c i a t e d t h a n k y o u p r a k a s h P o i n t e r F e a t u r e g u d b r a n s d a l o d u e d u o d u e d u']\n",
      "[[20 13 34 ...  0  0  0]\n",
      " [24 27 27 ...  0  0  0]\n",
      " [13 30 32 ...  0  0  0]\n",
      " [18 27 30 ...  0  0  0]\n",
      " [32 30 37 ...  0  0  0]]\n"
     ]
    }
   ],
   "source": [
    "#Keras documentation itself\n",
    "#https://keras.io/api/layers/preprocessing_layers/text/text_vectorization/\n",
    "\n",
    "#vocab_data - unique words in training dataset\n",
    "max_features = len(vocab_data) + 2 # Maximum vocab size.\n",
    "#max_len = max_sequence_length  # Sequence length to pad the outputs to.\n",
    "\n",
    "# Create the layer, passing the vocab directly. You can also pass the\n",
    "# vocabulary arg a path to a file containing one vocabulary word per\n",
    "# line.\n",
    "vectorize_layer = tf.keras.layers.TextVectorization(\n",
    "max_tokens=max_features,\n",
    "output_mode='int',\n",
    "output_sequence_length=max_sequence_length,\n",
    "vocabulary=vocab_data)\n",
    "\n",
    " # Because we've passed the vocabulary directly, we don't need to adapt\n",
    " # the layer - the vocabulary is already set. The vocabulary contains the\n",
    " # padding token ('') and OOV token ('[UNK]') as well as the passed tokens.\n",
    "vectorize_layer.get_vocabulary()\n",
    "#['', '[UNK]', 'earth', 'wind', 'and', 'fire']\n",
    "\n",
    "model = tf.keras.models.Sequential()\n",
    "model.add(tf.keras.Input(shape=(1,), dtype=tf.string))\n",
    "model.add(vectorize_layer)\n",
    "\n",
    "print(X_train[0:5])\n",
    "temp_sequences = model.predict(X_train[0:5])\n",
    "print(temp_sequences)"
   ]
  },
  {
   "cell_type": "markdown",
   "metadata": {},
   "source": [
    "Below vocablary and sequences created will be used later"
   ]
  },
  {
   "cell_type": "code",
   "execution_count": 47,
   "metadata": {},
   "outputs": [],
   "source": [
    "#This will be used to extract embedding vectors fro GloVe for each word in vocablary ...\n",
    "# using the index of the word in this vocab_produced list\n",
    "vocab_produced = vectorize_layer.get_vocabulary()\n",
    "\n",
    "#This will be used as input to the keras Input later of the model.\n",
    "x_train_sequences = model.predict(X_train)\n",
    "x_test_sequences  = model.predict(X_test)"
   ]
  },
  {
   "cell_type": "markdown",
   "metadata": {},
   "source": [
    "Create y_train"
   ]
  },
  {
   "cell_type": "code",
   "execution_count": 48,
   "metadata": {},
   "outputs": [
    {
     "name": "stderr",
     "output_type": "stream",
     "text": [
      "C:\\Users\\Pradip\\AppData\\Local\\Temp/ipykernel_10164/2905364387.py:2: FutureWarning: The default value of regex will change from True to False in a future version. In addition, single character regular expressions will *not* be treated as literal strings when regex=True.\n",
      "  Y_train = Y_train.str.replace('.','_')\n",
      "C:\\Users\\Pradip\\AppData\\Local\\Temp/ipykernel_10164/2905364387.py:5: FutureWarning: The default value of regex will change from True to False in a future version. In addition, single character regular expressions will *not* be treated as literal strings when regex=True.\n",
      "  Y_test = Y_test.str.replace('.','_')\n"
     ]
    }
   ],
   "source": [
    "Y_train = Y_train.str.replace('-','_')\n",
    "Y_train = Y_train.str.replace('.','_')\n",
    "\n",
    "Y_test = Y_test.str.replace('-','_')\n",
    "Y_test = Y_test.str.replace('.','_')"
   ]
  },
  {
   "cell_type": "code",
   "execution_count": 49,
   "metadata": {},
   "outputs": [
    {
     "name": "stdout",
     "output_type": "stream",
     "text": [
      "comp_sys_mac_hardware misc_forsale comp_os_ms_windows_misc rec_sport_hockey comp_windows_x talk_politics_guns rec_autos rec_motorcycles comp_sys_ibm_pc_hardware sci_electronics sci_space sci_crypt rec_sport_baseball soc_religion_christian talk_politics_mideast alt_atheism sci_med talk_politics_misc comp_graphics talk_religion_misc\n"
     ]
    },
    {
     "data": {
      "text/plain": [
       "CountVectorizer()"
      ]
     },
     "execution_count": 49,
     "metadata": {},
     "output_type": "execute_result"
    }
   ],
   "source": [
    "label_corpus = ' '.join([str(e) for e in Y_train.unique()])\n",
    "print(label_corpus)\n",
    "\n",
    "from sklearn.feature_extraction.text import CountVectorizer\n",
    "vectorizer = CountVectorizer()\n",
    "vectorizer.fit(Y_train)"
   ]
  },
  {
   "cell_type": "code",
   "execution_count": 50,
   "metadata": {},
   "outputs": [],
   "source": [
    "y_train = vectorizer.transform(Y_train).toarray()\n",
    "y_test  = vectorizer.transform(Y_test) .toarray()"
   ]
  },
  {
   "cell_type": "code",
   "execution_count": 51,
   "metadata": {},
   "outputs": [
    {
     "data": {
      "text/plain": [
       "array([[0, 0, 0, 0, 1, 0, 0, 0, 0, 0, 0, 0, 0, 0, 0, 0, 0, 0, 0, 0],\n",
       "       [0, 0, 0, 0, 0, 0, 1, 0, 0, 0, 0, 0, 0, 0, 0, 0, 0, 0, 0, 0],\n",
       "       [0, 0, 1, 0, 0, 0, 0, 0, 0, 0, 0, 0, 0, 0, 0, 0, 0, 0, 0, 0],\n",
       "       [0, 0, 0, 0, 0, 0, 0, 0, 0, 0, 1, 0, 0, 0, 0, 0, 0, 0, 0, 0],\n",
       "       [0, 0, 0, 0, 0, 1, 0, 0, 0, 0, 0, 0, 0, 0, 0, 0, 0, 0, 0, 0]],\n",
       "      dtype=int64)"
      ]
     },
     "execution_count": 51,
     "metadata": {},
     "output_type": "execute_result"
    }
   ],
   "source": [
    "y_train[0:5]"
   ]
  },
  {
   "cell_type": "code",
   "execution_count": 52,
   "metadata": {},
   "outputs": [
    {
     "data": {
      "text/plain": [
       "4222      comp_sys_mac_hardware\n",
       "6505               misc_forsale\n",
       "2178    comp_os_ms_windows_misc\n",
       "9774           rec_sport_hockey\n",
       "4827             comp_windows_x\n",
       "Name: class, dtype: object"
      ]
     },
     "execution_count": 52,
     "metadata": {},
     "output_type": "execute_result"
    }
   ],
   "source": [
    "Y_train[0:5]"
   ]
  },
  {
   "cell_type": "code",
   "execution_count": 53,
   "metadata": {},
   "outputs": [
    {
     "data": {
      "text/plain": [
       "array(['alt_atheism', 'comp_graphics', 'comp_os_ms_windows_misc',\n",
       "       'comp_sys_ibm_pc_hardware', 'comp_sys_mac_hardware',\n",
       "       'comp_windows_x', 'misc_forsale', 'rec_autos', 'rec_motorcycles',\n",
       "       'rec_sport_baseball', 'rec_sport_hockey', 'sci_crypt',\n",
       "       'sci_electronics', 'sci_med', 'sci_space',\n",
       "       'soc_religion_christian', 'talk_politics_guns',\n",
       "       'talk_politics_mideast', 'talk_politics_misc',\n",
       "       'talk_religion_misc'], dtype=object)"
      ]
     },
     "execution_count": 53,
     "metadata": {},
     "output_type": "execute_result"
    }
   ],
   "source": [
    "vectorizer.get_feature_names_out()"
   ]
  },
  {
   "cell_type": "markdown",
   "metadata": {},
   "source": [
    "Alternate approch to create right padded sequences of numbers.\n",
    "* tf.keras \"Tokenizer\" API, it removes the \"_\""
   ]
  },
  {
   "cell_type": "code",
   "execution_count": 54,
   "metadata": {},
   "outputs": [
    {
     "data": {
      "text/plain": [
       "'\\n#Below approach also can be used to create the right padded sequences of numbers.\\n#Since I am going to use above vectorize_layer, below code I have not tested.\\nt = Tokenizer()\\nt.fit_on_texts(word_corpus)\\nvocab_size = len(t.word_index) + 1\\nprint(\"Number of unique words: \", vocab_size)\\n# integer encode the documents\\nx_train = t.texts_to_sequences(X_train)\\nx_test  = t.texts_to_sequences(X_test)\\n'"
      ]
     },
     "execution_count": 54,
     "metadata": {},
     "output_type": "execute_result"
    }
   ],
   "source": [
    "'''\n",
    "#Below approach also can be used to create the right padded sequences of numbers.\n",
    "#Since I am going to use above vectorize_layer, below code I have not tested.\n",
    "t = Tokenizer()\n",
    "t.fit_on_texts(word_corpus)\n",
    "vocab_size = len(t.word_index) + 1\n",
    "print(\"Number of unique words: \", vocab_size)\n",
    "# integer encode the documents\n",
    "x_train = t.texts_to_sequences(X_train)\n",
    "x_test  = t.texts_to_sequences(X_test)\n",
    "'''"
   ]
  },
  {
   "cell_type": "markdown",
   "metadata": {},
   "source": [
    "## Figuring out for models to be trained"
   ]
  },
  {
   "cell_type": "markdown",
   "metadata": {},
   "source": [
    "##### getting my brain dirty, not hands! "
   ]
  },
  {
   "cell_type": "markdown",
   "metadata": {},
   "source": [
    "Metrics to be considered\n",
    "* \"categorical_crossentropy\" as Loss\n",
    "*  Accuracy and Micro Avgeraged F1 score as my as Key metrics to evaluate my model"
   ]
  },
  {
   "cell_type": "markdown",
   "metadata": {},
   "source": [
    "Model weights and results visualization\n",
    "* Tensorboard to plot the loss and Metrics based on the epoches\n",
    "* I can save save my best model weights in to 'best_model_L.h5' ( L = 1 or 2 )\n",
    "* I am going to save my model to image ( can plot the model) with shapes and inlcude those images in the notebook markdown cell. I can use \"plot model\"\n",
    "* Plotting model with shapes can be checked here https://www.tensorflow.org/api_docs/python/tf/keras/utils/plot_model"
   ]
  },
  {
   "cell_type": "markdown",
   "metadata": {},
   "source": [
    "I need to decide below parameters\n",
    "* Activation function, learning rate, optimizer."
   ]
  },
  {
   "cell_type": "markdown",
   "metadata": {},
   "source": [
    "Early Stopping technique or any of the callback techniques can be used !"
   ]
  },
  {
   "cell_type": "markdown",
   "metadata": {},
   "source": [
    "Encoding of the Text --> \n",
    "* For a given text data create a Matrix with Embedding layer as shown Below. \n",
    "* In the example we have considered d = 5, but in this assignment we will get d = dimension of Word vectors we are using.\n",
    "* i.e if we have maximum of 350 words in a sentence and embedding of 300 dim word vector, we result in 350*300 dimensional matrix for each sentance as output after embedding layer\n",
    "* <img src=\"https://i.imgur.com/kiVQuk1.png\" alt=\"drawing\" width=\"200\">\n",
    "* https://stats.stackexchange.com/questions/270546/how-does-keras-embedding-layer-work"
   ]
  },
  {
   "cell_type": "markdown",
   "metadata": {},
   "source": [
    "#### How embedding Layer works?\n",
    "* Embedding(7, 2, input_length=5)\n",
    "* Embedding(unique_numbers_in_sequences, output_length, input_length=5)\n",
    "* For each number it creates the vector of length 2\n",
    "* It creates 7 vectors of dimensiobn 2 each\n",
    "* For each number in the input sequence, it replaces the respective vector. "
   ]
  },
  {
   "cell_type": "markdown",
   "metadata": {},
   "source": [
    "https://stats.stackexchange.com/questions/270546/how-does-keras-embedding-layer-work"
   ]
  },
  {
   "cell_type": "markdown",
   "metadata": {},
   "source": [
    "Embedding(7, 2, input_length=5)"
   ]
  },
  {
   "cell_type": "markdown",
   "metadata": {},
   "source": [
    "* +------------+------------+\n",
    "* |   index    |  Embedding |\n",
    "* +------------+------------+\n",
    "* |     0      | [1.2, 3.1] |\n",
    "* |     1      | [0.1, 4.2] |\n",
    "* |     2      | [1.0, 3.1] |\n",
    "* |     3      | [0.3, 2.1] |\n",
    "* |     4      | [2.2, 1.4] |\n",
    "* |     5      | [0.7, 1.7] |\n",
    "* |     6      | [4.1, 2.0] |\n",
    "* +------------+------------+"
   ]
  },
  {
   "cell_type": "markdown",
   "metadata": {},
   "source": [
    "Inputs:\n",
    "\n",
    "[0, 1, 2, 3, 4]\n",
    "\n",
    "[5, 1, 2, 3, 6]"
   ]
  },
  {
   "cell_type": "markdown",
   "metadata": {},
   "source": [
    "Output (for second input vector):"
   ]
  },
  {
   "cell_type": "markdown",
   "metadata": {},
   "source": [
    "[[0.7, 1.7], [0.1, 4.2], [1.0, 3.1], [0.3, 2.1], [4.1, 2.0]]"
   ]
  },
  {
   "cell_type": "markdown",
   "metadata": {},
   "source": [
    "##### Thanks not all folks, model is yet to be trained! :P"
   ]
  },
  {
   "cell_type": "markdown",
   "metadata": {},
   "source": [
    "## Embedding using GloVe vector\n",
    "#### Preparing the Embedding layer using GloVe vector\n",
    "* Read about \"Global Vectors for Word Representation\" here https://nlp.stanford.edu/projects/glove/\n",
    "* glove.6B.300d.txt is downloaded from here http://nlp.stanford.edu/data/glove.6B.zip"
   ]
  },
  {
   "cell_type": "code",
   "execution_count": 55,
   "metadata": {},
   "outputs": [
    {
     "data": {
      "text/plain": [
       "'\\n#Code copied from Keras documentation itself. And modified slighly according to my requirement\\n#https://blog.keras.io/using-pre-trained-word-embeddings-in-a-keras-model.html\\nembeddings_index = {}\\nGLOVE_DIR = \\'.\\'\\nEMBEDDING_DIM = 300\\n\\nf = open(os.path.join(GLOVE_DIR, \\'glove.6B.\\' + str(EMBEDDING_DIM) + \\'d.txt\\'), encoding=\"utf8\")\\nfor line in tqdm(f):\\n    values = line.split()\\n    word = values[0]\\n    coefs = np.asarray(values[1:], dtype=\\'float32\\')\\n    embeddings_index[word] = coefs\\nf.close()\\n\\nprint(\\'Found %s word vectors.\\' % len(embeddings_index))\\n\\nvocab_not_in_glov = []\\nembedding_matrix = np.zeros((len(vocab_produced), EMBEDDING_DIM))\\nfor i in tqdm(np.arange(len(vocab_produced))):\\n    word = vocab_produced[i]    \\n    embedding_vector = embeddings_index.get(word)\\n    #print(i,word, embedding_vector)\\n    if embedding_vector is not None:\\n        # words not found in embedding index will be all-zeros.\\n        embedding_matrix[i] = embedding_vector\\n    else:\\n        vocab_not_in_glov.append(word)\\n'"
      ]
     },
     "execution_count": 55,
     "metadata": {},
     "output_type": "execute_result"
    }
   ],
   "source": [
    "'''\n",
    "#Code copied from Keras documentation itself. And modified slighly according to my requirement\n",
    "#https://blog.keras.io/using-pre-trained-word-embeddings-in-a-keras-model.html\n",
    "embeddings_index = {}\n",
    "GLOVE_DIR = '.'\n",
    "EMBEDDING_DIM = 300\n",
    "\n",
    "f = open(os.path.join(GLOVE_DIR, 'glove.6B.' + str(EMBEDDING_DIM) + 'd.txt'), encoding=\"utf8\")\n",
    "for line in tqdm(f):\n",
    "    values = line.split()\n",
    "    word = values[0]\n",
    "    coefs = np.asarray(values[1:], dtype='float32')\n",
    "    embeddings_index[word] = coefs\n",
    "f.close()\n",
    "\n",
    "print('Found %s word vectors.' % len(embeddings_index))\n",
    "\n",
    "vocab_not_in_glov = []\n",
    "embedding_matrix = np.zeros((len(vocab_produced), EMBEDDING_DIM))\n",
    "for i in tqdm(np.arange(len(vocab_produced))):\n",
    "    word = vocab_produced[i]    \n",
    "    embedding_vector = embeddings_index.get(word)\n",
    "    #print(i,word, embedding_vector)\n",
    "    if embedding_vector is not None:\n",
    "        # words not found in embedding index will be all-zeros.\n",
    "        embedding_matrix[i] = embedding_vector\n",
    "    else:\n",
    "        vocab_not_in_glov.append(word)\n",
    "'''        "
   ]
  },
  {
   "cell_type": "code",
   "execution_count": 56,
   "metadata": {},
   "outputs": [],
   "source": [
    "#print(len(vocab_produced))\n",
    "#print(len(vocab_not_in_glov))"
   ]
  },
  {
   "cell_type": "code",
   "execution_count": 57,
   "metadata": {},
   "outputs": [],
   "source": [
    "#print(vocab_not_in_glov[0:200])"
   ]
  },
  {
   "cell_type": "markdown",
   "metadata": {},
   "source": [
    "## Model 1\n",
    "* Covered in previous notebook as Part 2\n",
    "* Sequences of words were considered\n",
    "* In model 2, sequences of characters to be considered"
   ]
  },
  {
   "cell_type": "markdown",
   "metadata": {},
   "source": [
    "## Model 2"
   ]
  },
  {
   "cell_type": "markdown",
   "metadata": {},
   "source": [
    "* Layer to convert 'sequences of characters'  to 'right padded sequencees of numbers'\n",
    "* 'Sequences of words' here is all data points in X_train"
   ]
  },
  {
   "cell_type": "markdown",
   "metadata": {},
   "source": [
    "Model 2 which I am going to create"
   ]
  },
  {
   "cell_type": "markdown",
   "metadata": {},
   "source": [
    "<img src=\"Model 2.png\" alt=\"drawing\" width=\"300\">"
   ]
  },
  {
   "cell_type": "markdown",
   "metadata": {},
   "source": [
    "#### Defining the model 2"
   ]
  },
  {
   "cell_type": "code",
   "execution_count": 58,
   "metadata": {},
   "outputs": [
    {
     "name": "stdout",
     "output_type": "stream",
     "text": [
      "2154\n",
      "2154\n"
     ]
    }
   ],
   "source": [
    "print(len(x_train_sequences[0]))\n",
    "max_length = x_train_sequences.shape[1]\n",
    "print(max_length)"
   ]
  },
  {
   "cell_type": "code",
   "execution_count": 59,
   "metadata": {},
   "outputs": [
    {
     "name": "stdout",
     "output_type": "stream",
     "text": [
      "[[20 13 34 ...  0  0  0]\n",
      " [24 27 27 ...  0  0  0]\n",
      " [13 30 32 ...  0  0  0]\n",
      " ...\n",
      " [25 22 25 ...  0  0  0]\n",
      " [16 27 17 ...  0  0  0]\n",
      " [14 17 32 ...  0  0  0]]\n"
     ]
    }
   ],
   "source": [
    "print(x_train_sequences)"
   ]
  },
  {
   "cell_type": "code",
   "execution_count": 60,
   "metadata": {},
   "outputs": [
    {
     "name": "stdout",
     "output_type": "stream",
     "text": [
      "(14024, 2154)\n"
     ]
    }
   ],
   "source": [
    "print(x_train_sequences.shape)\n",
    "#print(embedding_matrix.shape)"
   ]
  },
  {
   "cell_type": "code",
   "execution_count": 61,
   "metadata": {},
   "outputs": [],
   "source": [
    "input_layer     = Input(shape=(max_length,), name='Input Layer')\n",
    "\n",
    "#embedding_matrix here has index wize words matrix; One array per one word.\n",
    "#Index is sequence number here.\n",
    "x  = Embedding(len(vocab_produced),\n",
    "                            50,\n",
    "                            #EMBEDDING_DIM,\n",
    "                            #weights=[embedding_matrix],\n",
    "                            input_length=max_sequence_length,\n",
    "                            trainable=True) (input_layer)\n",
    "\n",
    "x  = Conv1D(filters = 5 , kernel_size = 5 , strides = 1, padding='same', activation='relu', \\\n",
    "                           kernel_initializer = tf.keras.initializers.HeUniform())(x)\n",
    "x  = Conv1D(filters = 5 , kernel_size = 5 , strides = 1, padding='same', activation='relu', \\\n",
    "                           kernel_initializer = tf.keras.initializers.HeUniform() )(x)\n",
    "x  = MaxPool1D(5, padding='same', strides=1, name='maxpool_layer1')(x)\n",
    "\n",
    "\n",
    "x  = Conv1D(filters = 2 , kernel_size = 10 , strides = 1, padding='same', activation='relu', \\\n",
    "                           kernel_initializer = tf.keras.initializers.HeUniform())(x) \n",
    "x  = Conv1D(filters = 2 , kernel_size = 10 , strides = 1, padding='same', activation='relu', \\\n",
    "                           kernel_initializer = tf.keras.initializers.HeUniform() )(x)\n",
    "x  = MaxPool1D(5, padding='same', strides=1, name='maxpool_layer2')(x)\n",
    "    \n",
    "x       = Flatten()(x)\n",
    "x       = Dropout(0.3)(x)\n",
    "x       = Dense(16, activation='relu', kernel_initializer= 'glorot_normal' ,  kernel_regularizer = tf.keras.regularizers.l2(l = 0.005) )(x)\n",
    "\n",
    "dense_softmax = Dense(20, activation='softmax', kernel_initializer = 'glorot_normal' , name='dense_softmax')(x)"
   ]
  },
  {
   "cell_type": "markdown",
   "metadata": {},
   "source": [
    "Model1 summary"
   ]
  },
  {
   "cell_type": "code",
   "execution_count": 62,
   "metadata": {},
   "outputs": [
    {
     "name": "stdout",
     "output_type": "stream",
     "text": [
      "Model Summary:\n",
      "Model: \"model\"\n",
      "_________________________________________________________________\n",
      " Layer (type)                Output Shape              Param #   \n",
      "=================================================================\n",
      " Input Layer (InputLayer)    [(None, 2154)]            0         \n",
      "                                                                 \n",
      " embedding (Embedding)       (None, 2154, 50)          2000      \n",
      "                                                                 \n",
      " conv1d (Conv1D)             (None, 2154, 5)           1255      \n",
      "                                                                 \n",
      " conv1d_1 (Conv1D)           (None, 2154, 5)           130       \n",
      "                                                                 \n",
      " maxpool_layer1 (MaxPooling1  (None, 2154, 5)          0         \n",
      " D)                                                              \n",
      "                                                                 \n",
      " conv1d_2 (Conv1D)           (None, 2154, 2)           102       \n",
      "                                                                 \n",
      " conv1d_3 (Conv1D)           (None, 2154, 2)           42        \n",
      "                                                                 \n",
      " maxpool_layer2 (MaxPooling1  (None, 2154, 2)          0         \n",
      " D)                                                              \n",
      "                                                                 \n",
      " flatten (Flatten)           (None, 4308)              0         \n",
      "                                                                 \n",
      " dropout (Dropout)           (None, 4308)              0         \n",
      "                                                                 \n",
      " dense (Dense)               (None, 16)                68944     \n",
      "                                                                 \n",
      " dense_softmax (Dense)       (None, 20)                340       \n",
      "                                                                 \n",
      "=================================================================\n",
      "Total params: 72,813\n",
      "Trainable params: 72,813\n",
      "Non-trainable params: 0\n",
      "_________________________________________________________________\n"
     ]
    }
   ],
   "source": [
    "model2 = Model(inputs=input_layer, outputs=dense_softmax)\n",
    "print(\"Model Summary:\")\n",
    "model2.summary()"
   ]
  },
  {
   "cell_type": "markdown",
   "metadata": {},
   "source": [
    "Adjusting learninng rate across multiple trials based on inference for from training the model"
   ]
  },
  {
   "cell_type": "code",
   "execution_count": 63,
   "metadata": {},
   "outputs": [
    {
     "name": "stdout",
     "output_type": "stream",
     "text": [
      "Model Compiled!\n"
     ]
    }
   ],
   "source": [
    "#lr = 0.1 #Not ok\n",
    "#lr = 0.005 #Not ok\n",
    "#lr = 0.001 #Adam default\n",
    "#lr = 0.0005\n",
    "#lr = 1\n",
    "#lr = 10\n",
    "#lr = 100 # Not ok 43% accuracy\n",
    "#lr = 500\n",
    "#lr = 1000 #ok\n",
    "#lr = 10000\n",
    "#opt = tf.keras.optimizers.Adam(#learning_rate=lr,\n",
    "#                               #clipnorm=1 )\n",
    "\n",
    "model2.compile(optimizer = tf.keras.optimizers.Adam(), \n",
    "               loss      ='categorical_crossentropy', \n",
    "               metrics   =['accuracy'\n",
    "                            #tf.keras.metrics.Accuracy()\n",
    "                            #, tfa.metrics.F1Score(num_classes=20, threshold= 0.5, average='micro')\n",
    "                            , tfa.metrics.FBetaScore(num_classes=20, average='micro')\n",
    "                           ])\n",
    "print(\"Model Compiled!\")"
   ]
  },
  {
   "cell_type": "markdown",
   "metadata": {},
   "source": [
    "#### Defining Callbacks"
   ]
  },
  {
   "cell_type": "markdown",
   "metadata": {},
   "source": [
    "##### Tensorboard Callback"
   ]
  },
  {
   "cell_type": "code",
   "execution_count": 64,
   "metadata": {},
   "outputs": [
    {
     "name": "stdout",
     "output_type": "stream",
     "text": [
      "WARNING:tensorflow:`write_grads` will be ignored in TensorFlow 2.0 for the `TensorBoard` Callback.\n"
     ]
    }
   ],
   "source": [
    "%load_ext tensorboard\n",
    "log_dir=\"logs_tsboard/fit/\" + datetime.datetime.now().strftime(\"%Y%m%d-%H%M%S\")\n",
    "tensorboard_callback = tf.keras.callbacks.TensorBoard(log_dir=log_dir, \n",
    "                                                      histogram_freq=1, \n",
    "                                                      write_graph=True,\n",
    "                                                      write_grads=True)"
   ]
  },
  {
   "cell_type": "markdown",
   "metadata": {},
   "source": [
    "Run this command in command prompt while model is getting trained\n",
    "* %tensorboard --logdir logs_tsboard/fit/"
   ]
  },
  {
   "cell_type": "markdown",
   "metadata": {},
   "source": [
    "#### Early Stopping and Model Checkpoint Callbacks"
   ]
  },
  {
   "cell_type": "code",
   "execution_count": 65,
   "metadata": {},
   "outputs": [],
   "source": [
    "#https://machinelearningmastery.com/how-to-stop-training-deep-neural-networks-at-the-right-time-using-early-stopping/\n",
    "# patient early stopping\n",
    "es = EarlyStopping(monitor='val_loss', mode='max', min_delta=0.001, verbose=1, patience=10)\n",
    "mc = ModelCheckpoint('best_model2.h5', monitor='val_loss', mode='min', verbose=1, save_best_only=True)"
   ]
  },
  {
   "cell_type": "code",
   "execution_count": 66,
   "metadata": {},
   "outputs": [
    {
     "data": {
      "text/plain": [
       "array([0, 0, 0, 0, 0, 0, 0, 0, 0, 0, 0, 0, 0, 0, 0, 0, 0, 0, 0, 1],\n",
       "      dtype=int64)"
      ]
     },
     "execution_count": 66,
     "metadata": {},
     "output_type": "execute_result"
    }
   ],
   "source": [
    "y_test[0]"
   ]
  },
  {
   "cell_type": "markdown",
   "metadata": {},
   "source": [
    "#### Fit or train the model"
   ]
  },
  {
   "cell_type": "code",
   "execution_count": 67,
   "metadata": {
    "scrolled": false
   },
   "outputs": [
    {
     "name": "stdout",
     "output_type": "stream",
     "text": [
      "Epoch 1/50\n",
      "55/55 [==============================] - ETA: 0s - loss: 3.0281 - accuracy: 0.0543 - fbeta_score: 0.0543 ETA: 3s - loss: 3.0858 - accuracy: 0.0531 - fbeta_s -\n",
      "Epoch 00001: val_loss improved from inf to 2.97898, saving model to best_model2.h5\n",
      "55/55 [==============================] - 9s 116ms/step - loss: 3.0281 - accuracy: 0.0543 - fbeta_score: 0.0543 - val_loss: 2.9790 - val_accuracy: 0.0708 - val_fbeta_score: 0.0708\n",
      "Epoch 2/50\n",
      "55/55 [==============================] - ETA: 0s - loss: 2.9700 - accuracy: 0.0725 - fbeta_score: 0.0725\n",
      "Epoch 00002: val_loss improved from 2.97898 to 2.96425, saving model to best_model2.h5\n",
      "55/55 [==============================] - 5s 99ms/step - loss: 2.9700 - accuracy: 0.0725 - fbeta_score: 0.0725 - val_loss: 2.9642 - val_accuracy: 0.0714 - val_fbeta_score: 0.0714\n",
      "Epoch 3/50\n",
      "55/55 [==============================] - ETA: 0s - loss: 2.9419 - accuracy: 0.0842 - fbeta_score: 0.0842 ETA: 0s - loss: 2.9434 - accuracy: 0.0822 -\n",
      "Epoch 00003: val_loss improved from 2.96425 to 2.94346, saving model to best_model2.h5\n",
      "55/55 [==============================] - 5s 100ms/step - loss: 2.9419 - accuracy: 0.0842 - fbeta_score: 0.0842 - val_loss: 2.9435 - val_accuracy: 0.0873 - val_fbeta_score: 0.0873\n",
      "Epoch 4/50\n",
      "55/55 [==============================] - ETA: 0s - loss: 2.9209 - accuracy: 0.0983 - fbeta_score: 0.0983\n",
      "Epoch 00004: val_loss did not improve from 2.94346\n",
      "55/55 [==============================] - 5s 99ms/step - loss: 2.9209 - accuracy: 0.0983 - fbeta_score: 0.0983 - val_loss: 2.9459 - val_accuracy: 0.0853 - val_fbeta_score: 0.0853\n",
      "Epoch 5/50\n",
      "55/55 [==============================] - ETA: 0s - loss: 2.8996 - accuracy: 0.1075 - fbeta_score: 0.1075\n",
      "Epoch 00005: val_loss did not improve from 2.94346\n",
      "55/55 [==============================] - 5s 99ms/step - loss: 2.8996 - accuracy: 0.1075 - fbeta_score: 0.1075 - val_loss: 2.9452 - val_accuracy: 0.0911 - val_fbeta_score: 0.0911\n",
      "Epoch 6/50\n",
      "55/55 [==============================] - ETA: 0s - loss: 2.8842 - accuracy: 0.1157 - fbeta_score: 0.1157\n",
      "Epoch 00006: val_loss did not improve from 2.94346\n",
      "55/55 [==============================] - 5s 100ms/step - loss: 2.8842 - accuracy: 0.1157 - fbeta_score: 0.1157 - val_loss: 2.9617 - val_accuracy: 0.0866 - val_fbeta_score: 0.0866\n",
      "Epoch 7/50\n",
      "55/55 [==============================] - ETA: 0s - loss: 2.8657 - accuracy: 0.1269 - fbeta_score: 0.1269 ETA: 1s - loss: 2.8535 - accuracy\n",
      "Epoch 00007: val_loss did not improve from 2.94346\n",
      "55/55 [==============================] - 5s 100ms/step - loss: 2.8657 - accuracy: 0.1269 - fbeta_score: 0.1269 - val_loss: 2.9529 - val_accuracy: 0.0963 - val_fbeta_score: 0.0963\n",
      "Epoch 8/50\n",
      "55/55 [==============================] - ETA: 0s - loss: 2.8365 - accuracy: 0.1352 - fbeta_score: 0.1352\n",
      "Epoch 00008: val_loss did not improve from 2.94346\n",
      "55/55 [==============================] - 5s 100ms/step - loss: 2.8365 - accuracy: 0.1352 - fbeta_score: 0.1352 - val_loss: 2.9732 - val_accuracy: 0.0986 - val_fbeta_score: 0.0986\n",
      "Epoch 9/50\n",
      "55/55 [==============================] - ETA: 0s - loss: 2.8151 - accuracy: 0.1469 - fbeta_score: 0.1469 ETA: 2s - los - ETA: 0s - loss: 2.8148 - accuracy: 0.1468 - fbeta_score: 0.14\n",
      "Epoch 00009: val_loss did not improve from 2.94346\n",
      "55/55 [==============================] - 5s 100ms/step - loss: 2.8151 - accuracy: 0.1469 - fbeta_score: 0.1469 - val_loss: 2.9720 - val_accuracy: 0.0958 - val_fbeta_score: 0.0958\n",
      "Epoch 10/50\n",
      "55/55 [==============================] - ETA: 0s - loss: 2.7714 - accuracy: 0.1552 - fbeta_score: 0.1552\n",
      "Epoch 00010: val_loss improved from 2.94346 to 2.94171, saving model to best_model2.h5\n",
      "55/55 [==============================] - 6s 100ms/step - loss: 2.7714 - accuracy: 0.1552 - fbeta_score: 0.1552 - val_loss: 2.9417 - val_accuracy: 0.1084 - val_fbeta_score: 0.1084\n",
      "Epoch 11/50\n",
      "55/55 [==============================] - ETA: 0s - loss: 2.7225 - accuracy: 0.1741 - fbeta_score: 0.1741 ETA: 2s\n",
      "Epoch 00011: val_loss improved from 2.94171 to 2.90089, saving model to best_model2.h5\n",
      "55/55 [==============================] - 5s 100ms/step - loss: 2.7225 - accuracy: 0.1741 - fbeta_score: 0.1741 - val_loss: 2.9009 - val_accuracy: 0.1114 - val_fbeta_score: 0.1114\n",
      "Epoch 00011: early stopping\n"
     ]
    }
   ],
   "source": [
    "x_train = x_train_sequences\n",
    "x_test  = x_test_sequences\n",
    "\n",
    "model_history2 = model2.fit(x_train, y_train\n",
    "                            , validation_data=(x_test, y_test)\n",
    "                            , epochs=50, batch_size=256, verbose=1\n",
    "                            , callbacks=[tensorboard_callback, es, mc]\n",
    "                           )"
   ]
  },
  {
   "cell_type": "markdown",
   "metadata": {},
   "source": [
    "### Exploring the best model"
   ]
  },
  {
   "cell_type": "markdown",
   "metadata": {},
   "source": [
    "#### Load the best saved model by Model Checkpoint Callback"
   ]
  },
  {
   "cell_type": "code",
   "execution_count": 85,
   "metadata": {},
   "outputs": [
    {
     "name": "stdout",
     "output_type": "stream",
     "text": [
      "439/439 [==============================] - 4s 8ms/step - loss: 2.5981 - accuracy: 0.2186 - fbeta_score: 0.2186\n",
      "147/147 [==============================] - 1s 7ms/step - loss: 2.9009 - accuracy: 0.1114 - fbeta_score: 0.1114\n",
      "train_acc: 0.219, test_acc: 0.111\n",
      "train_fbeta_score: 0.219, test_fbeta_score: 0.111\n"
     ]
    }
   ],
   "source": [
    "best_model2 = load_model('best_model2.h5')\n",
    "# evaluate the model\n",
    "_, train_acc, train_fbeta_score = best_model2.evaluate(x_train, y_train, verbose=1)\n",
    "_, test_acc, test_fbeta_score = best_model2.evaluate(x_test, y_test, verbose=1)\n",
    "print('train_acc: %.3f, test_acc: %.3f' % (train_acc, test_acc))\n",
    "print('train_fbeta_score: %.3f, test_fbeta_score: %.3f' % (train_fbeta_score, test_fbeta_score))"
   ]
  },
  {
   "cell_type": "code",
   "execution_count": 86,
   "metadata": {},
   "outputs": [],
   "source": [
    "#### Load the best saved model by Model Checkpoint Callback"
   ]
  },
  {
   "cell_type": "code",
   "execution_count": 87,
   "metadata": {},
   "outputs": [],
   "source": [
    "y_train_pred = best_model2.predict(x_train)\n",
    "y_test_pred = best_model2.predict(x_test)"
   ]
  },
  {
   "cell_type": "markdown",
   "metadata": {},
   "source": [
    "#### Exploring how predicted probabilities looks with respect"
   ]
  },
  {
   "cell_type": "code",
   "execution_count": 88,
   "metadata": {},
   "outputs": [
    {
     "data": {
      "text/plain": [
       "0.123306    4\n",
       "0.163780    2\n",
       "0.106801    2\n",
       "0.101497    2\n",
       "0.139966    2\n",
       "           ..\n",
       "0.283223    1\n",
       "0.118429    1\n",
       "0.142963    1\n",
       "0.177884    1\n",
       "0.139938    1\n",
       "Length: 13998, dtype: int64"
      ]
     },
     "execution_count": 88,
     "metadata": {},
     "output_type": "execute_result"
    }
   ],
   "source": [
    "pd.Series([proba.max() for proba in y_train_pred]).value_counts()"
   ]
  },
  {
   "cell_type": "code",
   "execution_count": 89,
   "metadata": {},
   "outputs": [
    {
     "data": {
      "image/png": "[encoded data removed]",
      "text/plain": [
       "<Figure size 432x288 with 1 Axes>"
      ]
     },
     "metadata": {
      "needs_background": "light"
     },
     "output_type": "display_data"
    }
   ],
   "source": [
    "ax=pd.Series([proba.max() for proba in y_train_pred]).plot.kde()"
   ]
  },
  {
   "cell_type": "code",
   "execution_count": 90,
   "metadata": {},
   "outputs": [
    {
     "data": {
      "text/plain": [
       "[0.25024638, 0.12938744, 0.101466216, 0.17512722, 0.10237063]"
      ]
     },
     "execution_count": 90,
     "metadata": {},
     "output_type": "execute_result"
    }
   ],
   "source": [
    "[proba.max() for proba in y_train_pred][0:5]"
   ]
  },
  {
   "cell_type": "code",
   "execution_count": 91,
   "metadata": {},
   "outputs": [],
   "source": [
    "#https://www.pythonprogramming.in/suppress-scientific-notation-in-numpy.html\n",
    "np.set_printoptions(suppress=True,\n",
    "                    formatter={'float_kind': '{:f}'.format})"
   ]
  },
  {
   "cell_type": "code",
   "execution_count": 92,
   "metadata": {},
   "outputs": [
    {
     "name": "stdout",
     "output_type": "stream",
     "text": [
      "[0.004727 0.103077 0.106491 0.079234 0.155606 0.093986 0.250246 0.014416\n",
      " 0.030415 0.011820 0.013174 0.028168 0.046637 0.016595 0.020498 0.004491\n",
      " 0.005784 0.009245 0.001719 0.003670]\n",
      "1.0000001\n"
     ]
    }
   ],
   "source": [
    "print(y_train_pred[0])\n",
    "print(y_train_pred[0].sum())"
   ]
  },
  {
   "cell_type": "code",
   "execution_count": 93,
   "metadata": {},
   "outputs": [
    {
     "name": "stdout",
     "output_type": "stream",
     "text": [
      "[0.013479 0.121283 0.084501 0.098067 0.074860 0.078526 0.129387 0.050678\n",
      " 0.039014 0.048457 0.043543 0.028973 0.054259 0.034087 0.042994 0.013272\n",
      " 0.010879 0.012499 0.009337 0.011903]\n",
      "1.0\n"
     ]
    }
   ],
   "source": [
    "print(y_train_pred[1])\n",
    "print(y_train_pred[1].sum())"
   ]
  },
  {
   "cell_type": "code",
   "execution_count": 94,
   "metadata": {},
   "outputs": [
    {
     "name": "stdout",
     "output_type": "stream",
     "text": [
      "[0.020883 0.100505 0.085632 0.101466 0.066569 0.089038 0.082540 0.033696\n",
      " 0.070939 0.037555 0.048094 0.039872 0.043503 0.048295 0.043947 0.023354\n",
      " 0.017644 0.019572 0.013285 0.013611]\n",
      "1.0\n"
     ]
    }
   ],
   "source": [
    "print(y_train_pred[2])\n",
    "print(y_train_pred[2].sum())"
   ]
  },
  {
   "cell_type": "code",
   "execution_count": 95,
   "metadata": {},
   "outputs": [
    {
     "name": "stdout",
     "output_type": "stream",
     "text": [
      "[0.021320 0.079661 0.065591 0.050946 0.084875 0.073334 0.175127 0.044894\n",
      " 0.046704 0.040197 0.039991 0.042185 0.053770 0.043905 0.035453 0.024071\n",
      " 0.017386 0.032701 0.012310 0.015580]\n",
      "1.0000001\n"
     ]
    }
   ],
   "source": [
    "print(y_train_pred[3])\n",
    "print(y_train_pred[3].sum())"
   ]
  },
  {
   "cell_type": "code",
   "execution_count": 96,
   "metadata": {},
   "outputs": [
    {
     "name": "stdout",
     "output_type": "stream",
     "text": [
      "[0.038525 0.048273 0.036564 0.043331 0.040502 0.058522 0.022173 0.039897\n",
      " 0.102371 0.050643 0.097086 0.047605 0.046465 0.064502 0.052574 0.059587\n",
      " 0.047534 0.046418 0.031622 0.025806]\n",
      "1.0\n"
     ]
    }
   ],
   "source": [
    "print(y_train_pred[4])\n",
    "print(y_train_pred[4].sum())"
   ]
  },
  {
   "cell_type": "code",
   "execution_count": 97,
   "metadata": {},
   "outputs": [
    {
     "name": "stdout",
     "output_type": "stream",
     "text": [
      "[0.025458 0.001067 0.001161 0.000889 0.000558 0.000270 0.000034 0.005950\n",
      " 0.006087 0.005407 0.020214 0.039318 0.000859 0.036626 0.004083 0.056842\n",
      " 0.190710 0.540205 0.035738 0.028525]\n",
      "0.99999994\n"
     ]
    }
   ],
   "source": [
    "print(y_train_pred[5])\n",
    "print(y_train_pred[5].sum())"
   ]
  },
  {
   "cell_type": "markdown",
   "metadata": {},
   "source": [
    "#### This is how the predicted class is obtained from probabilities"
   ]
  },
  {
   "cell_type": "code",
   "execution_count": 98,
   "metadata": {},
   "outputs": [],
   "source": [
    "#y_train_pred = [[1 if i>=0.5 else 0 for i in i] for i in y_train_pred]\n",
    "#y_test_pred  = [[1 if i>=0.5 else 0 for i in i] for i in y_test_pred]\n",
    "\n",
    "idx = np.argmax(y_train_pred, axis=-1)\n",
    "y_train_pred = np.zeros( y_train_pred.shape )\n",
    "y_train_pred[ np.arange(y_train_pred.shape[0]), idx] = 1\n",
    "\n",
    "idx = np.argmax(y_test_pred, axis=-1)\n",
    "y_test_pred = np.zeros( y_test_pred.shape )\n",
    "y_test_pred[ np.arange(y_test_pred.shape[0]), idx] = 1"
   ]
  },
  {
   "cell_type": "code",
   "execution_count": 99,
   "metadata": {},
   "outputs": [
    {
     "data": {
      "text/plain": [
       "array([[0.000000, 0.000000, 0.000000, 0.000000, 0.000000, 0.000000,\n",
       "        1.000000, 0.000000, 0.000000, 0.000000, 0.000000, 0.000000,\n",
       "        0.000000, 0.000000, 0.000000, 0.000000, 0.000000, 0.000000,\n",
       "        0.000000, 0.000000],\n",
       "       [0.000000, 0.000000, 0.000000, 0.000000, 0.000000, 0.000000,\n",
       "        1.000000, 0.000000, 0.000000, 0.000000, 0.000000, 0.000000,\n",
       "        0.000000, 0.000000, 0.000000, 0.000000, 0.000000, 0.000000,\n",
       "        0.000000, 0.000000],\n",
       "       [0.000000, 0.000000, 0.000000, 1.000000, 0.000000, 0.000000,\n",
       "        0.000000, 0.000000, 0.000000, 0.000000, 0.000000, 0.000000,\n",
       "        0.000000, 0.000000, 0.000000, 0.000000, 0.000000, 0.000000,\n",
       "        0.000000, 0.000000],\n",
       "       [0.000000, 0.000000, 0.000000, 0.000000, 0.000000, 0.000000,\n",
       "        1.000000, 0.000000, 0.000000, 0.000000, 0.000000, 0.000000,\n",
       "        0.000000, 0.000000, 0.000000, 0.000000, 0.000000, 0.000000,\n",
       "        0.000000, 0.000000],\n",
       "       [0.000000, 0.000000, 0.000000, 0.000000, 0.000000, 0.000000,\n",
       "        0.000000, 0.000000, 1.000000, 0.000000, 0.000000, 0.000000,\n",
       "        0.000000, 0.000000, 0.000000, 0.000000, 0.000000, 0.000000,\n",
       "        0.000000, 0.000000],\n",
       "       [0.000000, 0.000000, 0.000000, 0.000000, 0.000000, 0.000000,\n",
       "        0.000000, 0.000000, 0.000000, 0.000000, 0.000000, 0.000000,\n",
       "        0.000000, 0.000000, 0.000000, 0.000000, 0.000000, 1.000000,\n",
       "        0.000000, 0.000000]])"
      ]
     },
     "execution_count": 99,
     "metadata": {},
     "output_type": "execute_result"
    }
   ],
   "source": [
    "y_train_pred[0:6]"
   ]
  },
  {
   "cell_type": "code",
   "execution_count": 100,
   "metadata": {},
   "outputs": [
    {
     "data": {
      "text/plain": [
       "1.0    14024\n",
       "dtype: int64"
      ]
     },
     "execution_count": 100,
     "metadata": {},
     "output_type": "execute_result"
    }
   ],
   "source": [
    "pd.Series([max(class_) for class_ in y_train_pred]).value_counts()"
   ]
  },
  {
   "cell_type": "code",
   "execution_count": 101,
   "metadata": {},
   "outputs": [
    {
     "data": {
      "text/plain": [
       "1.0    4675\n",
       "dtype: int64"
      ]
     },
     "execution_count": 101,
     "metadata": {},
     "output_type": "execute_result"
    }
   ],
   "source": [
    "pd.Series([max(class_) for class_ in y_test_pred]).value_counts()"
   ]
  },
  {
   "cell_type": "markdown",
   "metadata": {},
   "source": [
    "#### Plot the model2"
   ]
  },
  {
   "cell_type": "code",
   "execution_count": 103,
   "metadata": {},
   "outputs": [
    {
     "data": {
      "image/png": "[encoded data removed]",
      "text/plain": [
       "<IPython.core.display.Image object>"
      ]
     },
     "execution_count": 103,
     "metadata": {},
     "output_type": "execute_result"
    }
   ],
   "source": [
    "#Plot the Model\n",
    "#!pip install pydot\n",
    "#https://www.tensorflow.org/api_docs/python/tf/keras/utils/plot_model\n",
    "dot_img_file = './model_2.png'\n",
    "tf.keras.utils.plot_model(best_model2, to_file=dot_img_file, show_shapes=True)"
   ]
  },
  {
   "cell_type": "markdown",
   "metadata": {},
   "source": [
    "## Observations"
   ]
  },
  {
   "cell_type": "markdown",
   "metadata": {},
   "source": [
    "### Model 1\n",
    " Covered in the previous notebook, in Part 2"
   ]
  },
  {
   "cell_type": "markdown",
   "metadata": {},
   "source": [
    "### Model 2\n",
    "\n",
    "* Always print the results to ensure whether its working the way you expect.\n",
    "* threshold=0.5 for f1 beta score is removed, let it consider the argmax so that I can see class labels after predictions.\n",
    "* Since no class is able to be prected since probabilities found are below 0.5 and we find no class predicted, though I find almost 10% accuracy.\n",
    "* Model highly overfits with kernel size 2; made kernel size 10 for first 2 conv1d and 5 for next 2 conv1d.\n",
    "* Number of filters for first 2 conv1d are redulced to 5, for next 2 conv1d those are reduced to 2; this is to control overfitting.\n",
    "* Drop out rate was increased from 0.1 ro 0.3 to control the overfitting.\n",
    "* Model 2 looks overfitted. Training data has good performance metrics over test data.\n",
    "* train_acc: 0.219, test_acc: 0.111\n",
    "* train_fbeta_score: 0.219, test_fbeta_score: 0.111"
   ]
  },
  {
   "cell_type": "markdown",
   "metadata": {},
   "source": [
    "#### Tensorboard (Red is train and green is test)"
   ]
  },
  {
   "cell_type": "code",
   "execution_count": 105,
   "metadata": {},
   "outputs": [],
   "source": [
    "from IPython.display import Image"
   ]
  },
  {
   "cell_type": "code",
   "execution_count": 106,
   "metadata": {},
   "outputs": [
    {
     "data": {
      "image/png": "[encoded data removed]",
      "text/plain": [
       "<IPython.core.display.Image object>"
      ]
     },
     "execution_count": 106,
     "metadata": {},
     "output_type": "execute_result"
    }
   ],
   "source": [
    "Image(\"Model 2 - Scalar 1.png\")"
   ]
  },
  {
   "cell_type": "code",
   "execution_count": 107,
   "metadata": {},
   "outputs": [
    {
     "data": {
      "image/png": "[encoded data removed]",
      "text/plain": [
       "<IPython.core.display.Image object>"
      ]
     },
     "execution_count": 107,
     "metadata": {},
     "output_type": "execute_result"
    }
   ],
   "source": [
    "Image(\"Model 2 - Scalar 2.png\")"
   ]
  },
  {
   "cell_type": "code",
   "execution_count": 108,
   "metadata": {},
   "outputs": [
    {
     "data": {
      "image/png": "[encoded data removed]",
      "text/plain": [
       "<IPython.core.display.Image object>"
      ]
     },
     "execution_count": 108,
     "metadata": {},
     "output_type": "execute_result"
    }
   ],
   "source": [
    "Image(\"Model 2 - Scalar 3.png\")"
   ]
  }
 ],
 "metadata": {
  "kernelspec": {
   "display_name": "Python 3 (ipykernel)",
   "language": "python",
   "name": "python3"
  },
  "language_info": {
   "codemirror_mode": {
    "name": "ipython",
    "version": 3
   },
   "file_extension": ".py",
   "mimetype": "text/x-python",
   "name": "python",
   "nbconvert_exporter": "python",
   "pygments_lexer": "ipython3",
   "version": "3.8.12"
  }
 },
 "nbformat": 4,
 "nbformat_minor": 4
}
